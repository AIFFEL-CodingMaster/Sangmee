{
 "cells": [
  {
   "cell_type": "markdown",
   "metadata": {},
   "source": [
    "# 파이썬 모듈 (241-250)\n",
    "- 모듈 : 파이썬 파일 \n",
    "- 다양한 분야별로 모듈이 있다.\n",
    "- 프로그램 구현에 필요하다."
   ]
  },
  {
   "cell_type": "code",
   "execution_count": 4,
   "metadata": {},
   "outputs": [
    {
     "name": "stdout",
     "output_type": "stream",
     "text": [
      "2021-02-13 03:39:09.885890\n"
     ]
    }
   ],
   "source": [
    "#241 현재시간\n",
    "#datetime 모듈을 사용해서 현재 시간을 화면에 출력해보세요\n",
    "\n",
    "import datetime\n",
    "now = datetime.datetime.now()\n",
    "print(now)"
   ]
  },
  {
   "cell_type": "code",
   "execution_count": 1,
   "metadata": {},
   "outputs": [
    {
     "name": "stdout",
     "output_type": "stream",
     "text": [
      "2021-02-22 21:13:05.969397 <class 'datetime.datetime'>\n"
     ]
    }
   ],
   "source": [
    "#242 현재시간의 타입\n",
    "#datetime 모듈의 now 함수의 리턴 값의 타입을 화면에 출력해보세요.\n",
    "\n",
    "import datetime\n",
    "now = datetime.datetime.now()\n",
    "print(now,type(now))   # 타입 출력"
   ]
  },
  {
   "cell_type": "code",
   "execution_count": 2,
   "metadata": {},
   "outputs": [
    {
     "name": "stdout",
     "output_type": "stream",
     "text": [
      "2021-02-17 21:30:34.391476\n",
      "2021-02-18 21:30:34.391476\n",
      "2021-02-19 21:30:34.391476\n",
      "2021-02-20 21:30:34.391476\n",
      "2021-02-21 21:30:34.391476\n"
     ]
    }
   ],
   "source": [
    "#243 timedelta\n",
    "#datetime 모듈의 timedelta를 사용해서 오늘로부터 5일, 4일, 3일, 2일, 1일 전의 날짜를 화면에 출력해보세요.\n",
    "\n",
    "import datetime\n",
    "now = datetime.datetime.now()\n",
    "\n",
    "for day in range(5,0,-1):\n",
    "    delta = datetime.timedelta(days=day)\n",
    "    date = now - delta\n",
    "    print(date)"
   ]
  },
  {
   "cell_type": "code",
   "execution_count": 3,
   "metadata": {},
   "outputs": [
    {
     "name": "stdout",
     "output_type": "stream",
     "text": [
      "21:37:41\n"
     ]
    }
   ],
   "source": [
    "#244 strftime\n",
    "#현재시간을 얻어온 후 다음과 같은 포맷으로 시간을 출력해보세요. strftime 메서드를 사용하세요.\n",
    "\n",
    "import datetime\n",
    "now = datetime.datetime.now()\n",
    "\n",
    "print(now.strftime(\"%H:%M:%S\"))"
   ]
  },
  {
   "cell_type": "code",
   "execution_count": 6,
   "metadata": {},
   "outputs": [
    {
     "name": "stdout",
     "output_type": "stream",
     "text": [
      "2020-05-04 00:00:00 <class 'datetime.datetime'>\n"
     ]
    }
   ],
   "source": [
    "#245 strptime\n",
    "#datetime.datetime.strptime 메서드를 사용하면 문자열 형식의 시간을 datetime.datetime 타입의 시간 값으로 만들어줍니다. \"2020-05-04\"의 문자열을 시간 타입으로 변환해보세요.\n",
    "\n",
    "import datetime\n",
    "today = \"2020-05-04\"\n",
    "day = datetime.datetime.strptime(today,\"%Y-%m-%d\")\n",
    "print(day,type(day))"
   ]
  },
  {
   "cell_type": "code",
   "execution_count": null,
   "metadata": {},
   "outputs": [
    {
     "name": "stdout",
     "output_type": "stream",
     "text": [
      "2021-02-22 22:01:27.778801\n",
      "2021-02-22 22:01:28.780121\n",
      "2021-02-22 22:01:29.781427\n",
      "2021-02-22 22:01:30.782796\n",
      "2021-02-22 22:01:31.783993\n",
      "2021-02-22 22:01:32.785311\n",
      "2021-02-22 22:01:33.786655\n",
      "2021-02-22 22:01:34.788031\n",
      "2021-02-22 22:01:35.790074\n",
      "2021-02-22 22:01:36.791352\n"
     ]
    }
   ],
   "source": [
    "#246 sleep 함수\n",
    "#time 모듈, datetime 모듈을 사용해서 1초에 한 번 현재 시간을 출력하는 코드를 작성하세요.\n",
    "\n",
    "import time\n",
    "import datetime\n",
    "\n",
    "while True:\n",
    "    now = datetime.datetime.now()\n",
    "    print(now)\n",
    "    time.sleep(1)"
   ]
  },
  {
   "cell_type": "code",
   "execution_count": null,
   "metadata": {},
   "outputs": [],
   "source": [
    "#247 모듈 임포트\n",
    "#모듈을 임포트하는 4가지 방식에 대해 설명해보세요.\n",
    "\n"
   ]
  },
  {
   "cell_type": "code",
   "execution_count": 1,
   "metadata": {},
   "outputs": [
    {
     "name": "stdout",
     "output_type": "stream",
     "text": [
      "/home/aiffel/Aiffel_node/Aiffel/coding_master/python_300 <class 'str'>\n"
     ]
    }
   ],
   "source": [
    "#248 os 모듈\n",
    "#os 모듈의 getcwd 함수를 호출하여 현재 디렉터리의 경로를 화면에 출력해보세요.\n",
    "\n",
    "import os\n",
    "ret = os.getcwd()\n",
    "print(ret,type(ret))"
   ]
  },
  {
   "cell_type": "code",
   "execution_count": 3,
   "metadata": {},
   "outputs": [],
   "source": [
    "#249 rename 함수\n",
    "#바탕화면에 텍스트 파일을 하나 생성한 후 os 모듈의 rename 함수를 호출하여 해당 파일의 이름을 변경해보세요.\n",
    "\n",
    "import os"
   ]
  },
  {
   "cell_type": "code",
   "execution_count": 4,
   "metadata": {},
   "outputs": [
    {
     "name": "stdout",
     "output_type": "stream",
     "text": [
      "0.0\n",
      "0.1\n",
      "0.2\n",
      "0.30000000000000004\n",
      "0.4\n",
      "0.5\n",
      "0.6000000000000001\n",
      "0.7000000000000001\n",
      "0.8\n",
      "0.9\n",
      "1.0\n",
      "1.1\n",
      "1.2000000000000002\n",
      "1.3\n",
      "1.4000000000000001\n",
      "1.5\n",
      "1.6\n",
      "1.7000000000000002\n",
      "1.8\n",
      "1.9000000000000001\n",
      "2.0\n",
      "2.1\n",
      "2.2\n",
      "2.3000000000000003\n",
      "2.4000000000000004\n",
      "2.5\n",
      "2.6\n",
      "2.7\n",
      "2.8000000000000003\n",
      "2.9000000000000004\n",
      "3.0\n",
      "3.1\n",
      "3.2\n",
      "3.3000000000000003\n",
      "3.4000000000000004\n",
      "3.5\n",
      "3.6\n",
      "3.7\n",
      "3.8000000000000003\n",
      "3.9000000000000004\n",
      "4.0\n",
      "4.1000000000000005\n",
      "4.2\n",
      "4.3\n",
      "4.4\n",
      "4.5\n",
      "4.6000000000000005\n",
      "4.7\n",
      "4.800000000000001\n",
      "4.9\n"
     ]
    }
   ],
   "source": [
    "#250 numpy\n",
    "#numpy 모듈의 arange 함수를 사용해서 0.0 부터 5.0까지 0.1씩 증가하는 값을 화면에 출력해보세요.\n",
    "\n",
    "import numpy\n",
    "for i in numpy.arange(0,5,0.1):\n",
    "    print(i)"
   ]
  },
  {
   "cell_type": "code",
   "execution_count": null,
   "metadata": {},
   "outputs": [],
   "source": []
  }
 ],
 "metadata": {
  "kernelspec": {
   "display_name": "Python 3",
   "language": "python",
   "name": "python3"
  },
  "language_info": {
   "codemirror_mode": {
    "name": "ipython",
    "version": 3
   },
   "file_extension": ".py",
   "mimetype": "text/x-python",
   "name": "python",
   "nbconvert_exporter": "python",
   "pygments_lexer": "ipython3",
   "version": "3.7.10"
  }
 },
 "nbformat": 4,
 "nbformat_minor": 4
}
