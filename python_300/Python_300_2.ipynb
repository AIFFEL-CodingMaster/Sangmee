{
 "cells": [
  {
   "cell_type": "markdown",
   "metadata": {},
   "source": [
    "# 파이썬 리스트 51-70"
   ]
  },
  {
   "cell_type": "markdown",
   "metadata": {},
   "source": [
    "###  append() insert() del"
   ]
  },
  {
   "cell_type": "code",
   "execution_count": 2,
   "metadata": {},
   "outputs": [
    {
     "name": "stdout",
     "output_type": "stream",
     "text": [
      "['닥터 스트레인지', '스플릿', '럭키']\n"
     ]
    }
   ],
   "source": [
    "#051 리스트 생성\n",
    "#2016년 11월 영화 예매 순위 기준 top3는 다음과 같습니다. 영화 제목을 movie_rank 이름의 리스트에 저장해보세요. (순위 정보는 저장하지 않습니다.)\n",
    "#순위 \t영화\n",
    "#1 \t닥터 스트레인지\n",
    "#2 \t스플릿\n",
    "#3 \t럭키\n",
    "\n",
    "movie_rank = [\"닥터 스트레인지\", \"스플릿\",\"럭키\"]\n",
    "print(movie_rank)"
   ]
  },
  {
   "cell_type": "code",
   "execution_count": 3,
   "metadata": {},
   "outputs": [
    {
     "name": "stdout",
     "output_type": "stream",
     "text": [
      "['닥터 스트레인지', '스플릿', '럭키', '배트맨']\n"
     ]
    }
   ],
   "source": [
    "#052 리스트에 원소 추가\n",
    "#051의 movie_rank 리스트에 \"배트맨\"을 추가하라.\n",
    "movie_rank.append(\"배트맨\")\n",
    "print(movie_rank)"
   ]
  },
  {
   "cell_type": "code",
   "execution_count": 4,
   "metadata": {
    "scrolled": true
   },
   "outputs": [
    {
     "name": "stdout",
     "output_type": "stream",
     "text": [
      "['닥터 스트레인지', '슈퍼맨', '스플릿', '럭키', '배트맨']\n"
     ]
    }
   ],
   "source": [
    "#053\n",
    "#movie_rank 리스트에는 아래와 같이 네 개의 영화 제목이 바인딩되어 있다. \"슈퍼맨\"을 \"닥터 스트레인지\"와 \"스플릿\" 사이에 추가하라.\n",
    "\n",
    "movie_rank = ['닥터 스트레인지', '스플릿', '럭키', '배트맨']\n",
    "movie_rank.insert(1,\"슈퍼맨\")\n",
    "print(movie_rank)"
   ]
  },
  {
   "cell_type": "code",
   "execution_count": 5,
   "metadata": {},
   "outputs": [
    {
     "name": "stdout",
     "output_type": "stream",
     "text": [
      "['닥터 스트레인지', '슈퍼맨', '스플릿', '배트맨']\n"
     ]
    }
   ],
   "source": [
    "#054\n",
    "#movie_rank 리스트에서 '럭키'를 삭제하라.\n",
    "\n",
    "movie_rank = ['닥터 스트레인지', '슈퍼맨', '스플릿', '럭키', '배트맨']\n",
    "del movie_rank[3]\n",
    "print(movie_rank)"
   ]
  },
  {
   "cell_type": "code",
   "execution_count": 6,
   "metadata": {},
   "outputs": [
    {
     "name": "stdout",
     "output_type": "stream",
     "text": [
      "['닥터 스트레인지', '슈퍼맨']\n"
     ]
    }
   ],
   "source": [
    "#055\n",
    "#movie_rank 리스트에서 '스플릿' 과 '배트맨'을 를 삭제하라.\n",
    "\n",
    "movie_rank = ['닥터 스트레인지', '슈퍼맨', '스플릿', '배트맨']\n",
    "del movie_rank[2]\n",
    "del movie_rank[2]\n",
    "print(movie_rank)"
   ]
  },
  {
   "cell_type": "markdown",
   "metadata": {},
   "source": [
    "### lang연산 max/min sum len-데이터 갯수"
   ]
  },
  {
   "cell_type": "code",
   "execution_count": 9,
   "metadata": {},
   "outputs": [
    {
     "name": "stdout",
     "output_type": "stream",
     "text": [
      "['C', 'C++', 'JAVA', 'Python', 'Go', 'C#']\n"
     ]
    }
   ],
   "source": [
    "#056\n",
    "#lang1과 lang2 리스트가 있을 때 lang1과 lang2의 원소를 모두 갖고 있는 langs 리스트를 만들어라.\n",
    "#실행 예:langs\n",
    "#['C', 'C++', 'JAVA', 'Python', 'Go', 'C#']\n",
    "\n",
    "lang1 = [\"C\", \"C++\", \"JAVA\"]\n",
    "lang2 = [\"Python\", \"Go\", \"C#\"]\n",
    "\n",
    "lang = lang1+lang2\n",
    "print(lang)"
   ]
  },
  {
   "cell_type": "code",
   "execution_count": 13,
   "metadata": {},
   "outputs": [
    {
     "name": "stdout",
     "output_type": "stream",
     "text": [
      "max:  7\n",
      "min:  1\n"
     ]
    }
   ],
   "source": [
    "#057\n",
    "#다음 리스트에서 최댓값과 최솟값을 출력하라. (힌트: min(), max() 함수 사용)\n",
    "#실행 예:\n",
    "#max:  7\n",
    "#min:  1\n",
    "    \n",
    "nums = [1, 2, 3, 4, 5, 6, 7]\n",
    "\n",
    "print(\"max: \",max(nums))\n",
    "print(\"min: \", min(nums))"
   ]
  },
  {
   "cell_type": "code",
   "execution_count": 14,
   "metadata": {},
   "outputs": [
    {
     "name": "stdout",
     "output_type": "stream",
     "text": [
      "15\n"
     ]
    }
   ],
   "source": [
    "#058\n",
    "#다음 리스트의 합을 출력하라.\n",
    "#실행 예:15\n",
    "\n",
    "nums = [1, 2, 3, 4, 5]\n",
    "print(sum(nums))\n"
   ]
  },
  {
   "cell_type": "code",
   "execution_count": 15,
   "metadata": {},
   "outputs": [
    {
     "name": "stdout",
     "output_type": "stream",
     "text": [
      "12\n"
     ]
    }
   ],
   "source": [
    "#059\n",
    "#다음 리스트에 저장된 데이터의 개수를 화면에 구하하라.\n",
    "\n",
    "cook = [\"피자\", \"김밥\", \"만두\", \"양념치킨\", \"족발\", \"피자\", \"김치만두\", \"쫄면\", \"쏘세지\", \"라면\", \"팥빙수\", \"김치전\"]\n",
    "print(len(cook))"
   ]
  },
  {
   "cell_type": "code",
   "execution_count": 16,
   "metadata": {},
   "outputs": [
    {
     "name": "stdout",
     "output_type": "stream",
     "text": [
      "3.0\n"
     ]
    }
   ],
   "source": [
    "#060\n",
    "#다음 리스트의 평균을 출력하라.\n",
    "#실행 예:3.0\n",
    "\n",
    "nums = [1, 2, 3, 4, 5]\n",
    "average = sum(nums)/len(nums)\n",
    "print(average)"
   ]
  },
  {
   "cell_type": "code",
   "execution_count": 1,
   "metadata": {},
   "outputs": [
    {
     "name": "stdout",
     "output_type": "stream",
     "text": [
      "[100, 130, 140, 150, 160, 170]\n"
     ]
    }
   ],
   "source": [
    "#061\n",
    "#price 변수에는 날짜와 종가 정보가 저장돼 있다. \n",
    "#날짜 정보를 제외하고 가격 정보만을 출력하라. (힌트 : 슬라이싱)\n",
    "#출력 예시:[100, 130, 140, 150, 160, 170]\n",
    "\n",
    "price = ['20180728', 100, 130, 140, 150, 160, 170]\n",
    "print(price[1:])"
   ]
  },
  {
   "cell_type": "code",
   "execution_count": 3,
   "metadata": {},
   "outputs": [
    {
     "name": "stdout",
     "output_type": "stream",
     "text": [
      "[1, 3, 5, 7, 9]\n"
     ]
    }
   ],
   "source": [
    "#062\n",
    "#슬라이싱을 사용해서 홀수만 출력하라.\n",
    "#실행 예:[1, 3, 5, 7, 9]\n",
    "\n",
    "nums = [1, 2, 3, 4, 5, 6, 7, 8, 9, 10]\n",
    "print(nums[::2])"
   ]
  },
  {
   "cell_type": "code",
   "execution_count": 5,
   "metadata": {},
   "outputs": [
    {
     "name": "stdout",
     "output_type": "stream",
     "text": [
      "[2, 4, 6, 8, 10]\n"
     ]
    }
   ],
   "source": [
    "#063\n",
    "#슬라이싱을 사용해서 짝수만 출력하라.\n",
    "#실행 예:[2, 4, 6, 8, 10]\n",
    "\n",
    "nums = [1, 2, 3, 4, 5, 6, 7, 8, 9, 10]\n",
    "\n",
    "print(nums[1::2])\n"
   ]
  },
  {
   "cell_type": "code",
   "execution_count": 6,
   "metadata": {},
   "outputs": [
    {
     "name": "stdout",
     "output_type": "stream",
     "text": [
      "[5, 4, 3, 2, 1]\n"
     ]
    }
   ],
   "source": [
    "#064\n",
    "#슬라이싱을 사용해서 리스트의 숫자를 역 방향으로 출력하라.\n",
    "#실행 예: [5, 4, 3, 2, 1]\n",
    "\n",
    "nums = [1, 2, 3, 4, 5]\n",
    "\n",
    "print(nums[::-1])\n"
   ]
  },
  {
   "cell_type": "code",
   "execution_count": 10,
   "metadata": {},
   "outputs": [
    {
     "name": "stdout",
     "output_type": "stream",
     "text": [
      "삼성전자 Naver\n",
      "['삼성전자', 'Naver']\n"
     ]
    }
   ],
   "source": [
    "#065\n",
    "#interest 리스트에는 아래의 데이터가 바인딩되어 있다.\n",
    "#interest 리스트를 사용하여 아래와 같이 화면에 출력하라.\n",
    "#출력 예시: 삼성전자 Naver\n",
    "\n",
    "interest = ['삼성전자', 'LG전자', 'Naver']\n",
    "\n",
    "print(interest[0], interest[2]) # 같이 출력\n",
    "print(interest[::2])   # 따로 출력된다!!"
   ]
  },
  {
   "cell_type": "markdown",
   "metadata": {},
   "source": [
    "### join 메서드 - 리스트에 특정 구분자를 추가하여 문자열로 변환"
   ]
  },
  {
   "cell_type": "code",
   "execution_count": 12,
   "metadata": {},
   "outputs": [
    {
     "name": "stdout",
     "output_type": "stream",
     "text": [
      "삼성전자 LG전자 Naver SK하이닉스 미래에셋대우\n"
     ]
    }
   ],
   "source": [
    "#066 join 메서드\n",
    "#interest 리스트에는 아래의 데이터가 바인딩되어 있다.\n",
    "#interest 리스트를 사용하여 아래와 같이 화면에 출력하라.\n",
    "#출력 예시: 삼성전자 LG전자 Naver SK하이닉스 미래에셋대우\n",
    "\n",
    "interest = ['삼성전자', 'LG전자', 'Naver', 'SK하이닉스', '미래에셋대우']\n",
    "\n",
    "print(\" \".join(interest))"
   ]
  },
  {
   "cell_type": "code",
   "execution_count": 13,
   "metadata": {},
   "outputs": [
    {
     "name": "stdout",
     "output_type": "stream",
     "text": [
      "삼성전자/LG전자/Naver/SK하이닉스/미래에셋대우\n"
     ]
    }
   ],
   "source": [
    "#067 join 메서드\n",
    "#interest 리스트에는 아래의 데이터가 바인딩되어 있다.\n",
    "#interest 리스트를 사용하여 아래와 같이 화면에 출력하라.\n",
    "#출력 예시: 삼성전자/LG전자/Naver/SK하이닉스/미래에셋대우\n",
    "\n",
    "interest = ['삼성전자', 'LG전자', 'Naver', 'SK하이닉스', '미래에셋대우']\n",
    "\n",
    "print(\"/\".join(interest))"
   ]
  },
  {
   "cell_type": "code",
   "execution_count": 16,
   "metadata": {},
   "outputs": [
    {
     "name": "stdout",
     "output_type": "stream",
     "text": [
      "삼성전자\n",
      "LG전자\n",
      "Naver\n",
      "SK하이닉스\n",
      "미래에셋대우\n"
     ]
    }
   ],
   "source": [
    "#068 join 메서드\n",
    "#interest 리스트에는 아래의 데이터가 바인딩되어 있다.\n",
    "#join() 메서드를 사용해서 interest 리스트를 아래와 같이 화면에 출력하라.\n",
    "'''\n",
    "출력 예시:\n",
    "삼성전자\n",
    "LG전자\n",
    "Naver\n",
    "SK하이닉스\n",
    "미래에셋대우\n",
    "'''\n",
    "interest = ['삼성전자', 'LG전자', 'Naver', 'SK하이닉스', '미래에셋대우']\n",
    "\n",
    "print(\"\\n\".join(interest))"
   ]
  },
  {
   "cell_type": "markdown",
   "metadata": {},
   "source": [
    "### 문자열 split - 문자열에 특정 구분자를 기준으로 리스트로 변환"
   ]
  },
  {
   "cell_type": "code",
   "execution_count": 18,
   "metadata": {},
   "outputs": [
    {
     "name": "stdout",
     "output_type": "stream",
     "text": [
      "['삼성전자', 'LG전자', 'Naver']\n"
     ]
    }
   ],
   "source": [
    "#069 문자열 split 메서드\n",
    "#회사 이름이 슬래시 ('/')로 구분되어 하나의 문자열로 저장되어 있다. \n",
    "#이를 interest 이름의 리스트로 분리 저장하라.\n",
    "\n",
    "#실행 예시\n",
    "#print(interest)\n",
    "#['삼성전자', 'LG전자', 'Naver']\n",
    "\n",
    "string = \"삼성전자/LG전자/Naver\"\n",
    "interest = string.split(\"/\")\n",
    "print(interest)"
   ]
  },
  {
   "cell_type": "markdown",
   "metadata": {},
   "source": [
    "### 리스트 정렬 (sorted)\n",
    "- 리스트.sort() : 순서대로 정렬 /오름차순\n",
    "- 리스트.reverse() : 리스트 순서 반대로 정렬 \n",
    "    - 리스트.sort(reverse=True) : 내림차순"
   ]
  },
  {
   "cell_type": "code",
   "execution_count": 21,
   "metadata": {},
   "outputs": [
    {
     "name": "stdout",
     "output_type": "stream",
     "text": [
      "[1, 2, 3, 4, 5, 9, 10]\n"
     ]
    }
   ],
   "source": [
    "#070 리스트 정렬\n",
    "#리스트에 있는 값을 오름차순으로 정렬하세요.\n",
    "\n",
    "data = [2, 4, 3, 1, 5, 10, 9]\n",
    "data_up = sorted(data)\n",
    "print(data_up)"
   ]
  },
  {
   "cell_type": "code",
   "execution_count": 22,
   "metadata": {},
   "outputs": [
    {
     "name": "stdout",
     "output_type": "stream",
     "text": [
      "[1, 2, 3, 4, 5, 9, 10]\n"
     ]
    }
   ],
   "source": [
    "#070-1 리스트 정렬\n",
    "#리스트에 있는 값을 오름차순으로 정렬하세요.\n",
    "\n",
    "data = [2, 4, 3, 1, 5, 10, 9]\n",
    "data.sort()\n",
    "print(data)"
   ]
  },
  {
   "cell_type": "code",
   "execution_count": 24,
   "metadata": {},
   "outputs": [
    {
     "name": "stdout",
     "output_type": "stream",
     "text": [
      "[10, 9, 5, 4, 3, 2, 1]\n"
     ]
    }
   ],
   "source": [
    "#070 리스트 정렬\n",
    "#리스트에 있는 값을 내림차순으로 정렬하세요.\n",
    "\n",
    "data = [2, 4, 3, 1, 5, 10, 9]\n",
    "data_down = sorted(data,reverse=True)\n",
    "print(data_down)"
   ]
  },
  {
   "cell_type": "code",
   "execution_count": null,
   "metadata": {},
   "outputs": [],
   "source": []
  }
 ],
 "metadata": {
  "kernelspec": {
   "display_name": "aiffel",
   "language": "python",
   "name": "aiffel"
  },
  "language_info": {
   "codemirror_mode": {
    "name": "ipython",
    "version": 3
   },
   "file_extension": ".py",
   "mimetype": "text/x-python",
   "name": "python",
   "nbconvert_exporter": "python",
   "pygments_lexer": "ipython3",
   "version": "3.7.9"
  }
 },
 "nbformat": 4,
 "nbformat_minor": 4
}
