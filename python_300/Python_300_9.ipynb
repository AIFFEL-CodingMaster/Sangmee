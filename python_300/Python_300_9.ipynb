{
 "cells": [
  {
   "cell_type": "markdown",
   "metadata": {},
   "source": [
    "# 파이썬 클래스 (251-290)\n",
    "- 타입 만들어낸다. \n",
    "- int,float,str 처럼 새로운 타입을 만들어 낼 수 있다."
   ]
  },
  {
   "cell_type": "code",
   "execution_count": null,
   "metadata": {},
   "outputs": [],
   "source": [
    "#251 클래스, 객체, 인스턴스\n",
    "#클래스, 객체, 인스턴스에 대해 설명해봅시다.\n",
    "\n",
    "# 클래스 - 붕어빵 틀과 같은것, 객체나 인스턴스의 설계도\n",
    "# 객체 object - 클래서에서 만들어진것\n",
    "# 인스턴스 - 어떤(강조) 클래스에서 만들어진 것\n"
   ]
  },
  {
   "cell_type": "code",
   "execution_count": 1,
   "metadata": {},
   "outputs": [],
   "source": [
    "#252 클래스 정의\n",
    "#비어있는 사람 (Human) 클래스를 \"정의\" 해보세요.\n",
    "\n",
    "class Human: # 클래스 정의\n",
    "    pass # 아무것도 없으니 pass "
   ]
  },
  {
   "cell_type": "code",
   "execution_count": 2,
   "metadata": {},
   "outputs": [],
   "source": [
    "#253 인스턴스 생성\n",
    "#사람 (Human) 클래스의 인스턴스를 \"생성\" 하고 이를 areum 변수로 바인딩해보세요.\n",
    "\n",
    "class Human:\n",
    "    pass\n",
    "\n",
    "areum = Human()   #객체생성 - 변수로 바인딩"
   ]
  },
  {
   "cell_type": "code",
   "execution_count": 4,
   "metadata": {},
   "outputs": [
    {
     "name": "stdout",
     "output_type": "stream",
     "text": [
      "응애응애\n"
     ]
    }
   ],
   "source": [
    "#254 클래스 생성자-1\n",
    "#사람 (Human) 클래스에 \"응애응애\"를 출력하는 생성자를 추가하세요.\n",
    "\n",
    "class Human():   \n",
    "    def __init__(self): #생성자 - 클래스로부터 객체를 생성할 때, 자동으로 호출하는 함수\n",
    "        print(\"응애응애\")  # self : 생성된 객체 바인딩(a)\n",
    "        \n",
    "a = Human()  # Human이라는 객체를 생성해서 a로 바인딩하게 되면, 자동으로 init함수 호출   "
   ]
  },
  {
   "cell_type": "code",
   "execution_count": 21,
   "metadata": {},
   "outputs": [
    {
     "name": "stdout",
     "output_type": "stream",
     "text": [
      "아름\n",
      "25\n"
     ]
    }
   ],
   "source": [
    "#255 클래스 생성자-2\n",
    "#사람 (Human) 클래스에 (이름, 나이, 성별)을 받는 생성자를 추가하세요.\n",
    "\n",
    "class Human:\n",
    "    def __init__(self,이름,나이,성별): #생성자\n",
    "        self.name = 이름    # self라는 공간에 name이라는 키에 이름 이라는 값을 바인딩 해준다.\n",
    "        self.age = 나이    #나이 는 함수가 생성될때 임시적으로 생기는 변수 -> age에 바인딩 해주는 역할\n",
    "        self.sex= 성별\n",
    " \n",
    "      \n",
    "areum = Human(\"아름\", 25, \"여자\")\n",
    "print(areum.name)   \n",
    "print(areum.age)"
   ]
  },
  {
   "cell_type": "code",
   "execution_count": 10,
   "metadata": {},
   "outputs": [
    {
     "name": "stdout",
     "output_type": "stream",
     "text": [
      "이름: 아름\n",
      "나이: 25\n",
      "성별: 여자\n"
     ]
    },
    {
     "data": {
      "text/plain": [
       "25"
      ]
     },
     "execution_count": 10,
     "metadata": {},
     "output_type": "execute_result"
    }
   ],
   "source": [
    "#256 인스턴스 속성에 접근\n",
    "#255에서 생성한 인스턴스의 이름, 나이, 성별을 출력하세요. 인스턴스 변수에 접근하여 값을 출력하면 됩니다.\n",
    "\n",
    "print(\"이름:\",areum.name)\n",
    "print(\"나이:\",areum.age)\n",
    "print(\"성별:\",areum.sex)\n",
    "areum.age"
   ]
  },
  {
   "cell_type": "code",
   "execution_count": 13,
   "metadata": {},
   "outputs": [
    {
     "name": "stdout",
     "output_type": "stream",
     "text": [
      "이름: 아름, 나이: 25, 성별 :여자\n"
     ]
    }
   ],
   "source": [
    "#257 클래스 메소드 - 1\n",
    "#사람 (Human) 클래스에서 이름, 나이, 성별을 출력하는 who() 메소드를 추가하세요.\n",
    "\n",
    "class Human:\n",
    "    def __init__(self,name,age,sex):\n",
    "        self.name=name\n",
    "        self.age=age\n",
    "        self.sex= sex\n",
    "        \n",
    "    def who(self):   #who 메소드\n",
    "        print(f\"이름: {self.name}, 나이: {self.age}, 성별 :{self.sex}\")\n",
    "\n",
    "areum = Human(\"아름\", 25, \"여자\")\n",
    "areum.who() #Human.who(areum) - Human안에 있는 areum에 대하여 who를 호출 "
   ]
  },
  {
   "cell_type": "code",
   "execution_count": 19,
   "metadata": {},
   "outputs": [
    {
     "name": "stdout",
     "output_type": "stream",
     "text": [
      "이름: 모름, 나이: 0, 성별 :모름\n",
      "이름: 아름, 나이: 25, 성별 :여자\n"
     ]
    }
   ],
   "source": [
    "#258 클래스 메소드 - 2\n",
    "#사람 (Human) 클래스에 (이름, 나이, 성별)을 받는 setInfo 메소드를 추가하세요.\n",
    "\n",
    "class Human:\n",
    "    def __init__(self,name,age,sex):\n",
    "        self.name=name\n",
    "        self.age=age\n",
    "        self.sex=sex\n",
    "    \n",
    "    def who(self):   #who 메소드\n",
    "        print(f\"이름: {self.name}, 나이: {self.age}, 성별 :{self.sex}\")\n",
    "\n",
    "    def setInfo(self,name,age,sex):\n",
    "        self.name=name\n",
    "        self.age=age\n",
    "        self.sex=sex\n",
    "        \n",
    "\n",
    "areum = Human(\"모름\", 0, \"모름\")\n",
    "areum.who()\n",
    "\n",
    "areum.setInfo(\"아름\", 25, \"여자\")\n",
    "areum.who()"
   ]
  },
  {
   "cell_type": "code",
   "execution_count": 20,
   "metadata": {},
   "outputs": [
    {
     "name": "stdout",
     "output_type": "stream",
     "text": [
      "나의 죽음을 알리지 말라\n"
     ]
    }
   ],
   "source": [
    "#259 클래스 소멸자\n",
    "#사람 (human) 클래스에 \"나의 죽음을 알리지 말라\"를 출력하는 소멸자를 추가하세요.\n",
    "\n",
    "class Human:\n",
    "    def __init__(self,name,age,sex):\n",
    "        self.name=name\n",
    "        self.age=age\n",
    "        self.sex=sex\n",
    "    \n",
    "    def who(self):   #who 메소드\n",
    "        print(f\"이름: {self.name}, 나이: {self.age}, 성별 :{self.sex}\")\n",
    "\n",
    "    def setInfo(self,name,age,sex):\n",
    "        self.name=name\n",
    "        self.age=age\n",
    "        self.sex=sex\n",
    "    \n",
    "    def __del__(self): #소멸자\n",
    "        print(\"나의 죽음을 알리지 말라\")\n",
    "\n",
    "areum = Human(\"아름\", 25, \"여자\")\n",
    "del areum   #areum이라는 변수가 가르키는 객체를 강제로 삭제 - 소멸자 나타남"
   ]
  },
  {
   "cell_type": "code",
   "execution_count": null,
   "metadata": {},
   "outputs": [],
   "source": [
    "#260 에러의 원인\n",
    "#아래와 같은 에러가 발생한 원인에 대해 설명하세요.\n",
    "\n",
    "class OMG : \n",
    "    def print() :\n",
    "        print(\"Oh my god\")\n",
    "        \n",
    "mystock = OMG()    #OMC안에 있는 mystock에 대하여 print 호출\n",
    "mystock.print()      # OMG.print(mystock)\n",
    "\n",
    "#self가 없음 - 어떤게 나올지 함수는 모르니까 정해줘야함"
   ]
  },
  {
   "cell_type": "code",
   "execution_count": 1,
   "metadata": {},
   "outputs": [],
   "source": [
    "#261 Stock 클래스 생성\n",
    "#주식 종목에 대한 정보를 저장하는 Stock 클래스를 정의해보세요. 클래스는 속성과 메서드를 갖고 있지 않습니다\n",
    "\n",
    "class Stock:\n",
    "    pass"
   ]
  },
  {
   "cell_type": "code",
   "execution_count": 5,
   "metadata": {},
   "outputs": [
    {
     "name": "stdout",
     "output_type": "stream",
     "text": [
      "삼성전자\n",
      "005930\n"
     ]
    }
   ],
   "source": [
    "#262 생성자\n",
    "#Stock 클래스의 객체가 생성될 때 종목명과 종목코드를 입력 받을 수 있도록 생성자를 정의해보세요.\n",
    "\n",
    "class Stock:\n",
    "    def __init__(self,종목명,종목코드):\n",
    "        self.name = 종목명\n",
    "        self.code = 종목코드\n",
    "    \n",
    "삼성 = Stock(\"삼성전자\", \"005930\")  \n",
    "print(삼성.name)\n",
    "print(삼성.code)"
   ]
  },
  {
   "cell_type": "code",
   "execution_count": 7,
   "metadata": {},
   "outputs": [
    {
     "name": "stdout",
     "output_type": "stream",
     "text": [
      "삼성전자\n"
     ]
    }
   ],
   "source": [
    "#263 메서드\n",
    "#객체에 종목명을 입력할 수 있는 set_name 메서드를 추가해보세요.\n",
    "\n",
    "class Stock:\n",
    "    def __init__(self,종목명,종목코드):\n",
    "        self.name = 종목명\n",
    "        self.code = 종목코드\n",
    "    \n",
    "    def set_name(self,종목명):\n",
    "        self.name = 종목명\n",
    "\n",
    "a = Stock(None, None)\n",
    "a.set_name(\"삼성전자\")\n",
    "print(a.name)"
   ]
  },
  {
   "cell_type": "code",
   "execution_count": 11,
   "metadata": {},
   "outputs": [
    {
     "name": "stdout",
     "output_type": "stream",
     "text": [
      "005930\n"
     ]
    }
   ],
   "source": [
    "#264 메서드\n",
    "#객체에 종목코드를 입력할 수 있는 set_code 메서드를 추가해보세요.\n",
    "\n",
    "class Stock:\n",
    "    def __init__(self,name,code):\n",
    "        self.name = name\n",
    "        self.code = code\n",
    "        \n",
    "    def set_name(self,name):\n",
    "        self.name = name\n",
    "        \n",
    "    def set_code(self,code1):\n",
    "        self.code1 = code1\n",
    "\n",
    "a = Stock(None, None)\n",
    "a.set_code(\"005930\")\n",
    "print(a.code1)"
   ]
  },
  {
   "cell_type": "code",
   "execution_count": 13,
   "metadata": {},
   "outputs": [
    {
     "name": "stdout",
     "output_type": "stream",
     "text": [
      "삼성전자\n",
      "005930\n",
      "삼성전자\n"
     ]
    }
   ],
   "source": [
    "#265 메서드\n",
    "#종목명과 종목코드를 리턴하는 get_name, get_code 메서드를 추가하세요. 해당 메서드를 사용하여 종목명과 종목코드를 얻고 이를 출력해보세요.\n",
    "\n",
    "class Stock:\n",
    "    def __init__(self,name,code):\n",
    "        self.name = name\n",
    "        self.code = code\n",
    "    \n",
    "    def set_name(self,name1):\n",
    "        self.name1 = name1\n",
    "        \n",
    "    def set_code(self,code1):\n",
    "        self.code1 = code1\n",
    "        \n",
    "    def get_name(self):\n",
    "        return self.name\n",
    "    \n",
    "    def get_code(self):\n",
    "        return self.code\n",
    "\n",
    "\n",
    "삼성 = Stock(\"삼성전자\", \"005930\")\n",
    "print(삼성.name)\n",
    "print(삼성.code)\n",
    "print(삼성.get_name())\n",
    "print(삼성.get_code())"
   ]
  },
  {
   "cell_type": "code",
   "execution_count": 17,
   "metadata": {},
   "outputs": [],
   "source": [
    "#266 객체의 속성값 업데이트\n",
    "#생성자에서 종목명, 종목코드, PER, PBR, 배당수익률을 입력 받을 수 있도록 생성자를 수정하세요. \n",
    "#PER, PBR, 배당수익률은 float 타입입니다.\n",
    "\n",
    "class Stock:\n",
    "    def __init__(self,name,code,per,pbr,배당수익률):\n",
    "        self.name = name\n",
    "        self.code = code\n",
    "        self.per = per\n",
    "        self.pbr = pbr\n",
    "        self.배당수익률 = 배당수익률\n",
    "    \n",
    "    def set_name(self,name1):\n",
    "        self.name1 = name1\n",
    "        \n",
    "    def set_code(self,code1):\n",
    "        self.code1 = code1\n",
    "        \n",
    "    def get_name(self):\n",
    "        return self.name\n",
    "    \n",
    "    def get_code(self):\n",
    "        return self.code"
   ]
  },
  {
   "cell_type": "code",
   "execution_count": 19,
   "metadata": {},
   "outputs": [
    {
     "name": "stdout",
     "output_type": "stream",
     "text": [
      "2.83\n"
     ]
    }
   ],
   "source": [
    "#267 객체 생성\n",
    "#266번에서 정의한 생성자를 통해 다음 정보를 갖는 객체를 생성해보세요\n",
    "\n",
    "삼성 = Stock(\"삼성전자\",'005930',15.79,1.33,2.83)\n",
    "print(삼성.배당수익률)"
   ]
  },
  {
   "cell_type": "code",
   "execution_count": 29,
   "metadata": {},
   "outputs": [],
   "source": [
    "#268 객체의 속성 수정\n",
    "#PER, PBR, 배당수익률은 변경될 수 있는 값입니다. \n",
    "#이 값을 변경할 때 사용하는 set_per, set_pbr, set_dividend 메서드를 추가하세요.\n",
    "\n",
    "class Stock:\n",
    "    def __init__(self,name,code,per,pbr,배당수익률):\n",
    "        self.name = name\n",
    "        self.code = code\n",
    "        self.per = per\n",
    "        self.pbr = pbr\n",
    "        self.배당수익률 = 배당수익률\n",
    "    \n",
    "    def set_name(self,name1):\n",
    "        self.name1 = name1\n",
    "        \n",
    "    def set_code(self,code1):\n",
    "        self.code1 = code1\n",
    "        \n",
    "    def get_name(self):\n",
    "        return self.name\n",
    "    \n",
    "    def get_code(self):\n",
    "        return self.code\n",
    "    \n",
    "    def set_per(self,per1):\n",
    "        self.per = per1\n",
    "    \n",
    "    def set_pbr(self,pbr1):\n",
    "        self.pbr = pbr1   \n",
    "        \n",
    "    def set_dividend(self,dividend1):\n",
    "        self.dividend = dividend1 \n",
    "        "
   ]
  },
  {
   "cell_type": "code",
   "execution_count": 30,
   "metadata": {},
   "outputs": [
    {
     "name": "stdout",
     "output_type": "stream",
     "text": [
      "12.75\n"
     ]
    }
   ],
   "source": [
    "#269 객체의 속성 수정\n",
    "#267번에서 생성한 객체에 set_per 메서드를 호출하여 per 값을 12.75로 수정해보세요.\n",
    "\n",
    "삼성 = Stock(\"삼성전자\",'005930',15.79,1.33,2.83)\n",
    "삼성.set_per(12.75)\n",
    "print(삼성.per)"
   ]
  },
  {
   "cell_type": "code",
   "execution_count": 32,
   "metadata": {},
   "outputs": [
    {
     "name": "stdout",
     "output_type": "stream",
     "text": [
      "005930 15.79\n",
      "005380 8.7\n",
      "0066570 317.34\n"
     ]
    }
   ],
   "source": [
    "#270 여러 종목의 객체 생성\n",
    "#아래의 표를 참조하여 3종목에 대해 객체를 생성하고 이를 파이썬 리스트에 저장하세요.\n",
    "#파이썬 리스트에 저장된 각 종목에 대해 for 루프를 통해 종목코드와 PER을 출력해보세요.\n",
    "\n",
    "종목 = []\n",
    "삼성 = Stock('삼성전자','005930',15.79,1.33,2.83)\n",
    "현대 = Stock('현대차','005380',8.70,0.35,4.27)\n",
    "LG전자 = Stock('LG전자','0066570',317.34,0.69,1.37)\n",
    "\n",
    "종목.append(삼성)\n",
    "종목.append(현대)\n",
    "종목.append(LG전자)\n",
    "\n",
    "for i in 종목:\n",
    "     print(i.code,i.per)"
   ]
  },
  {
   "cell_type": "code",
   "execution_count": 5,
   "metadata": {},
   "outputs": [
    {
     "name": "stdout",
     "output_type": "stream",
     "text": [
      "상미\n",
      "100\n",
      "SC은행\n",
      "038-74-331675\n"
     ]
    }
   ],
   "source": [
    "#271 Account 클래스\n",
    "#은행에 가서 계좌를 개설하면 은행이름, 예금주, 계좌번호, 잔액이 설정됩니다. \n",
    "#Account 클래스를 생성한 후 생성자를 구현해보세요. 생성자에서는 예금주와 초기 잔액만 입력 받습니다. \n",
    "#은행이름은 SC은행으로 계좌번호는 3자리-2자리-6자리 형태로 랜덤하게 생성됩니다.\n",
    "\n",
    "import random\n",
    "\n",
    "class Account:\n",
    "    def __init__(self,예금주,초기잔액):  # 생성자\n",
    "        self.name = 예금주\n",
    "        self.money = 초기잔액\n",
    "        self.bank = 'SC은행'\n",
    "        \n",
    "        num1 = random.randint(0,999)   # 0과 999를 포함하는 랜덤값\n",
    "        num2 = random.randint(0,99)\n",
    "        num3 = random.randint(0,999999)\n",
    "        \n",
    "        num1 = str(num1).zfill(3)   # 문자열로 변경 후, 3자리로 맞춰줌\n",
    "        num2 = str(num2).zfill(2)\n",
    "        num3 = str(num3).zfill(6)\n",
    "        \n",
    "        self.account = num1 + '-' + num2 + '-' + num3\n",
    "        \n",
    "        \n",
    "        \n",
    "mee = Account('상미',100)\n",
    "print(mee.name)\n",
    "print(mee.money)\n",
    "print(mee.bank)\n",
    "print(mee.account)"
   ]
  },
  {
   "cell_type": "code",
   "execution_count": 7,
   "metadata": {},
   "outputs": [
    {
     "name": "stdout",
     "output_type": "stream",
     "text": [
      "1\n",
      "2\n"
     ]
    }
   ],
   "source": [
    "#272 클래스 변수\n",
    "#클래스 변수를 사용해서 Account 클래스로부터 생성된 계좌 객체의 개수를 저장하세요.\n",
    "\n",
    "import random\n",
    "\n",
    "class Account:\n",
    "    \n",
    "    account_count = 0\n",
    "    \n",
    "    def __init__(self,예금주,초기잔액):  # 생성자\n",
    "        self.name = 예금주\n",
    "        self.money = 초기잔액\n",
    "        self.bank = 'SC은행'\n",
    "        \n",
    "        num1 = random.randint(0,999)   # 0과 999를 포함하는 랜덤값\n",
    "        num2 = random.randint(0,99)\n",
    "        num3 = random.randint(0,999999)\n",
    "        \n",
    "        num1 = str(num1).zfill(3)   # 문자열로 변경 후, 3자리로 맞춰줌\n",
    "        num2 = str(num2).zfill(2)\n",
    "        num3 = str(num3).zfill(6)\n",
    "        \n",
    "        self.account = num1 + '-' + num2 + '-' + num3\n",
    "        \n",
    "        Account.account_count += 1\n",
    "        \n",
    "mee = Account('상미',100)\n",
    "print(Account.account_count)\n",
    "\n",
    "kim = Account('민수',450)\n",
    "print(Account.account_count)"
   ]
  },
  {
   "cell_type": "code",
   "execution_count": 10,
   "metadata": {},
   "outputs": [
    {
     "name": "stdout",
     "output_type": "stream",
     "text": [
      "<class '__main__.Account'>\n",
      "2\n"
     ]
    }
   ],
   "source": [
    "#273 클래스 변수 출력\n",
    "#Account 클래스로부터 생성된 계좌의 개수를 출력하는 get_account_num() 메서드를 추가하세요.\n",
    "\n",
    "\n",
    "import random\n",
    "\n",
    "class Account:\n",
    "    \n",
    "    account_count = 0\n",
    "    \n",
    "    def __init__(self,예금주,초기잔액):  # 생성자\n",
    "        self.name = 예금주\n",
    "        self.money = 초기잔액\n",
    "        self.bank = 'SC은행'\n",
    "        \n",
    "        num1 = random.randint(0,999)   # 0과 999를 포함하는 랜덤값\n",
    "        num2 = random.randint(0,99)\n",
    "        num3 = random.randint(0,999999)\n",
    "        \n",
    "        num1 = str(num1).zfill(3)   # 문자열로 변경 후, 3자리로 맞춰줌\n",
    "        num2 = str(num2).zfill(2)\n",
    "        num3 = str(num3).zfill(6)\n",
    "        \n",
    "        self.account = num1 + '-' + num2 + '-' + num3\n",
    "        \n",
    "        Account.account_count += 1\n",
    "        \n",
    "    @classmethod\n",
    "    def get_account_num(a):    #Account 클래스로부터 생성된 계좌의 개수 출력하는 메서드\n",
    "        print(a)\n",
    "        print(a.account_count)\n",
    "        \n",
    "mee = Account('상미',100)\n",
    "kim = Account('민수',450)\n",
    "\n",
    "Account.get_account_num()"
   ]
  },
  {
   "cell_type": "code",
   "execution_count": 11,
   "metadata": {},
   "outputs": [],
   "source": [
    "#274 입금 메서드\n",
    "#Account 클래스에 입금을 위한 deposit 메서드를 추가하세요. 입금은 최소 1원 이상만 가능합니다.\n",
    "\n",
    "import random\n",
    "\n",
    "class Account:\n",
    "    \n",
    "    account_count = 0\n",
    "    \n",
    "    def __init__(self,예금주,초기잔액):  # 생성자\n",
    "        self.name = 예금주\n",
    "        self.money = 초기잔액\n",
    "        self.bank = 'SC은행'\n",
    "        \n",
    "        num1 = random.randint(0,999)   # 0과 999를 포함하는 랜덤값\n",
    "        num2 = random.randint(0,99)\n",
    "        num3 = random.randint(0,999999)\n",
    "        \n",
    "        num1 = str(num1).zfill(3)   # 문자열로 변경 후, 3자리로 맞춰줌\n",
    "        num2 = str(num2).zfill(2)\n",
    "        num3 = str(num3).zfill(6)\n",
    "        \n",
    "        self.account = num1 + '-' + num2 + '-' + num3\n",
    "        \n",
    "        Account.account_count += 1\n",
    "        \n",
    "    @classmethod\n",
    "    def get_account_num(a):    #Account 클래스로부터 생성된 계좌의 개수 출력하는 메서드\n",
    "        print(a)\n",
    "        print(a.account_count)\n",
    "        \n",
    "    def deposit(self,amount):    # 입금을 위한 메서드\n",
    "        if amount >=1 :\n",
    "            self.money += amount\n",
    "\n",
    "            "
   ]
  },
  {
   "cell_type": "code",
   "execution_count": 17,
   "metadata": {},
   "outputs": [
    {
     "name": "stdout",
     "output_type": "stream",
     "text": [
      "213\n"
     ]
    }
   ],
   "source": [
    "#275 출금 메서드\n",
    "#Account 클래스에 출금을 위한 withdraw 메서드를 추가하세요. 출금은 계좌의 잔고 이상으로 출금할 수는 없습니다.\n",
    "\n",
    "import random\n",
    "\n",
    "class Account:\n",
    "    \n",
    "    account_count = 0\n",
    "    \n",
    "    def __init__(self,예금주,초기잔액):  # 생성자\n",
    "        self.name = 예금주\n",
    "        self.money = 초기잔액\n",
    "        self.bank = 'SC은행'\n",
    "        \n",
    "        num1 = random.randint(0,999)   # 0과 999를 포함하는 랜덤값\n",
    "        num2 = random.randint(0,99)\n",
    "        num3 = random.randint(0,999999)\n",
    "        \n",
    "        num1 = str(num1).zfill(3)   # 문자열로 변경 후, 3자리로 맞춰줌\n",
    "        num2 = str(num2).zfill(2)\n",
    "        num3 = str(num3).zfill(6)\n",
    "        \n",
    "        self.account = num1 + '-' + num2 + '-' + num3\n",
    "        \n",
    "        Account.account_count += 1\n",
    "        \n",
    "    @classmethod\n",
    "    def get_account_num(a):\n",
    "        print(a)\n",
    "        print(a.account_count)    #Account 클래스로부터 생성된 계좌의 개수 출력하는 메서드\n",
    "        \n",
    "    def deposit(self,amount):   # 입금을 위한 메서드\n",
    "        if amount >=1 :\n",
    "            self.money += amount\n",
    "            \n",
    "    def withdraw(self,out):    # 출금을 위한 메서드 \n",
    "        if self.money > out :\n",
    "            self.money -= out\n",
    "            \n",
    "kim = Account('김',300)\n",
    "kim.deposit(13)\n",
    "kim.withdraw(100)\n",
    "print(kim.money)\n",
    "            "
   ]
  },
  {
   "cell_type": "code",
   "execution_count": 20,
   "metadata": {},
   "outputs": [
    {
     "name": "stdout",
     "output_type": "stream",
     "text": [
      "은행이름 :  SC은행\n",
      "예금주 :  파이썬\n",
      "계좌번호 :  901-73-045688\n",
      "잔고 :  10000 원\n"
     ]
    }
   ],
   "source": [
    "#276 정보 출력 메서드\n",
    "#Account 인스턴스에 저장된 정보를 출력하는 display_info() 메서드를 추가하세요. 잔고는 세자리마다 쉼표를 출력하세요.\n",
    "\n",
    "import random\n",
    "\n",
    "class Account:\n",
    "    \n",
    "    account_count = 0\n",
    "    \n",
    "    def __init__(self,예금주,초기잔액):  # 생성자\n",
    "        self.name = 예금주\n",
    "        self.money = 초기잔액\n",
    "        self.bank = 'SC은행'\n",
    "        \n",
    "        num1 = random.randint(0,999)   # 0과 999를 포함하는 랜덤값\n",
    "        num2 = random.randint(0,99)\n",
    "        num3 = random.randint(0,999999)\n",
    "        \n",
    "        num1 = str(num1).zfill(3)   # 문자열로 변경 후, 3자리로 맞춰줌\n",
    "        num2 = str(num2).zfill(2)\n",
    "        num3 = str(num3).zfill(6)\n",
    "        \n",
    "        self.account = num1 + '-' + num2 + '-' + num3\n",
    "        \n",
    "        Account.account_count += 1\n",
    "        \n",
    "    @classmethod\n",
    "    def get_account_num(a):\n",
    "        print(a)\n",
    "        print(a.account_count)    #Account 클래스로부터 생성된 계좌의 개수 출력하는 메서드\n",
    "        \n",
    "    def deposit(self,amount):   # 입금을 위한 메서드\n",
    "        if amount >=1 :\n",
    "            self.money += amount\n",
    "            \n",
    "    def withdraw(self,out):    # 출금을 위한 메서드 \n",
    "        if self.money > out :\n",
    "            self.money -= out\n",
    "            \n",
    "    def display_info(self):\n",
    "        print('은행이름 : ',self.bank)\n",
    "        print('예금주 : ',self.name)\n",
    "        print('계좌번호 : ',self.account)\n",
    "        print('잔고 : ',self.money,'원')\n",
    "        \n",
    "kim = Account('파이썬',10000)\n",
    "kim.display_info()"
   ]
  },
  {
   "cell_type": "code",
   "execution_count": 29,
   "metadata": {},
   "outputs": [],
   "source": [
    "#277 이자 지급하기\n",
    "#입금 횟수가 5회가 될 때 잔고를 기준으로 1%의 이자가 잔고에 추가되도록 코드를 변경해보세요.\n",
    "\n",
    "import random\n",
    "\n",
    "class Account:\n",
    "    \n",
    "    account_count = 0   # 클래스로부터 생성된 계좌 객체의 수\n",
    "    \n",
    "    def __init__(self,예금주,초기잔액):  # 생성자\n",
    "        self.deposit_count = 0  # 객체가 생성될 때 카운트 0으로 초기화\n",
    "        \n",
    "        self.name = 예금주\n",
    "        self.money = 초기잔액\n",
    "        self.bank = 'SC은행'\n",
    "        \n",
    "        num1 = random.randint(0,999)   # 0과 999를 포함하는 랜덤값\n",
    "        num2 = random.randint(0,99)\n",
    "        num3 = random.randint(0,999999)\n",
    "        \n",
    "        num1 = str(num1).zfill(3)   # 문자열로 변경 후, 3자리로 맞춰줌\n",
    "        num2 = str(num2).zfill(2)\n",
    "        num3 = str(num3).zfill(6)\n",
    "        \n",
    "        self.account = num1 + '-' + num2 + '-' + num3\n",
    "        \n",
    "        Account.account_count += 1   # 계좌 객체 수 1씩 증가\n",
    "        \n",
    "    @classmethod\n",
    "    def get_account_num(a):\n",
    "        print(a)\n",
    "        print(a.account_count)    #Account 클래스로부터 생성된 계좌의 개수 출력하는 메서드\n",
    "        \n",
    "    def deposit(self,amount):   # 입금을 위한 메서드\n",
    "        if amount >=1 :  # 입금액이 1원 이상일때\n",
    "            self.money += amount\n",
    "            \n",
    "            self.deposit_count += 1\n",
    "            if self.deposit_count % 5 ==0 :  # 5회씩 1% 이자 추가\n",
    "                self.money = (self.money * 1.01)\n",
    "            \n",
    "    def withdraw(self,out):    # 출금을 위한 메서드 \n",
    "        if self.money > out :\n",
    "            self.money -= out\n",
    "            \n",
    "    def display_info(self):\n",
    "        print('은행이름 : ',self.bank)\n",
    "        print('예금주 : ',self.name)\n",
    "        print('계좌번호 : ',self.account)\n",
    "        print('잔고 : ',self.money,'원')\n",
    "        "
   ]
  },
  {
   "cell_type": "code",
   "execution_count": 30,
   "metadata": {},
   "outputs": [
    {
     "name": "stdout",
     "output_type": "stream",
     "text": [
      "50500.0\n"
     ]
    }
   ],
   "source": [
    "p = Account(\"파이썬\", 10000)  # 초기 잔액\n",
    "p.deposit(10000)   # 입금1\n",
    "p.deposit(10000)   # 입금2\n",
    "p.deposit(10000)   # 입금3\n",
    "p.deposit(5000)   # 입금4\n",
    "p.deposit(5000)   # 입금5\n",
    "print(p.money)"
   ]
  },
  {
   "cell_type": "code",
   "execution_count": 37,
   "metadata": {},
   "outputs": [
    {
     "name": "stdout",
     "output_type": "stream",
     "text": [
      "[<__main__.Account object at 0x7f952fc14550>, <__main__.Account object at 0x7f952fc14ed0>, <__main__.Account object at 0x7f952fdb1a90>]\n"
     ]
    }
   ],
   "source": [
    "#278 여러 객체 생성\n",
    "#Account 클래스로부터 3개 이상 인스턴스를 생성하고 생성된 인스턴스를 리스트에 저장해보세요.\n",
    "\n",
    "import random\n",
    "\n",
    "class Account:\n",
    "    \n",
    "    account_count = 0   # 클래스로부터 생성된 계좌 객체의 수\n",
    "    \n",
    "    def __init__(self,예금주,초기잔액):  # 생성자\n",
    "        self.deposit_count = 0  # 객체가 생성될 때 카운트 0으로 초기화\n",
    "        \n",
    "        self.name = 예금주\n",
    "        self.money = 초기잔액\n",
    "        self.bank = 'SC은행'\n",
    "        \n",
    "        num1 = random.randint(0,999)   # 0과 999를 포함하는 랜덤값\n",
    "        num2 = random.randint(0,99)\n",
    "        num3 = random.randint(0,999999)\n",
    "        \n",
    "        num1 = str(num1).zfill(3)   # 문자열로 변경 후, 3자리로 맞춰줌\n",
    "        num2 = str(num2).zfill(2)\n",
    "        num3 = str(num3).zfill(6)\n",
    "        \n",
    "        self.account = num1 + '-' + num2 + '-' + num3\n",
    "        \n",
    "        Account.account_count += 1   # 계좌 객체 수 1씩 증가\n",
    "        \n",
    "    @classmethod\n",
    "    def get_account_num(a):\n",
    "        print(a)\n",
    "        print(a.account_count)    #Account 클래스로부터 생성된 계좌의 개수 출력하는 메서드\n",
    "        \n",
    "    def deposit(self,amount):   # 입금을 위한 메서드\n",
    "        if amount >=1 :  # 입금액이 1원 이상일때\n",
    "            self.money += amount\n",
    "            \n",
    "            self.deposit_count += 1\n",
    "            if self.deposit_count % 5 ==0 :  # 5회씩 1% 이자 추가\n",
    "                self.money = (self.money * 1.01)\n",
    "            \n",
    "    def withdraw(self,out):    # 출금을 위한 메서드 \n",
    "        if self.money > out :\n",
    "            self.money -= out\n",
    "            \n",
    "    def display_info(self):\n",
    "        print('은행이름 : ',self.bank)\n",
    "        print('예금주 : ',self.name)\n",
    "        print('계좌번호 : ',self.account)\n",
    "        print('잔고 : ',self.money,'원')\n",
    "        \n",
    "        \n",
    "# 인스턴스 생성\n",
    "Account_list = []\n",
    "\n",
    "kim = Account('kim',500)\n",
    "lee = Account('lee',340)\n",
    "park = Account('park',250)\n",
    "\n",
    "Account_list.append(kim)\n",
    "Account_list.append(lee)\n",
    "Account_list.append(park)\n",
    "\n",
    "print(Account_list)\n",
    "# [Account 클래스의 object로 ''' 주소에 위치한다. X 3개 를 리스트로 저장]"
   ]
  },
  {
   "cell_type": "code",
   "execution_count": 41,
   "metadata": {},
   "outputs": [
    {
     "name": "stdout",
     "output_type": "stream",
     "text": [
      "은행이름 :  SC은행\n",
      "예금주 :  kim\n",
      "계좌번호 :  733-24-354693\n",
      "잔고 :  50000000 원\n",
      "은행이름 :  SC은행\n",
      "예금주 :  lee\n",
      "계좌번호 :  186-22-076784\n",
      "잔고 :  3400000 원\n"
     ]
    }
   ],
   "source": [
    "#279 객체 순회\n",
    "#반복문을 통해 리스트에 있는 객체를 순회하면서 잔고가 100만원 이상인 고객의 정보만 출력하세요.\n",
    "\n",
    "import random\n",
    "\n",
    "class Account:\n",
    "    \n",
    "    account_count = 0   # 클래스로부터 생성된 계좌 객체의 수\n",
    "    \n",
    "    def __init__(self,예금주,초기잔액):  # 생성자\n",
    "        self.deposit_count = 0  # 객체가 생성될 때 카운트 0으로 초기화\n",
    "        \n",
    "        self.name = 예금주\n",
    "        self.money = 초기잔액\n",
    "        self.bank = 'SC은행'\n",
    "        \n",
    "        num1 = random.randint(0,999)   # 0과 999를 포함하는 랜덤값\n",
    "        num2 = random.randint(0,99)\n",
    "        num3 = random.randint(0,999999)\n",
    "        \n",
    "        num1 = str(num1).zfill(3)   # 문자열로 변경 후, 3자리로 맞춰줌\n",
    "        num2 = str(num2).zfill(2)\n",
    "        num3 = str(num3).zfill(6)\n",
    "        \n",
    "        self.account = num1 + '-' + num2 + '-' + num3\n",
    "        \n",
    "        Account.account_count += 1   # 계좌 객체 수 1씩 증가\n",
    "        \n",
    "    @classmethod\n",
    "    def get_account_num(a):\n",
    "        print(a)\n",
    "        print(a.account_count)    #Account 클래스로부터 생성된 계좌의 개수 출력하는 메서드\n",
    "        \n",
    "    def deposit(self,amount):   # 입금을 위한 메서드\n",
    "        if amount >=1 :  # 입금액이 1원 이상일때\n",
    "            self.money += amount\n",
    "            \n",
    "            self.deposit_count += 1\n",
    "            if self.deposit_count % 5 ==0 :  # 5회씩 1% 이자 추가\n",
    "                self.money = (self.money * 1.01)\n",
    "            \n",
    "    def withdraw(self,out):    # 출금을 위한 메서드 \n",
    "        if self.money > out :\n",
    "            self.money -= out\n",
    "            \n",
    "    def display_info(self):\n",
    "        print('은행이름 : ',self.bank)\n",
    "        print('예금주 : ',self.name)\n",
    "        print('계좌번호 : ',self.account)\n",
    "        print('잔고 : ',self.money,'원')\n",
    "        \n",
    "# 인스턴스 생성\n",
    "Account_list = []\n",
    "\n",
    "kim = Account('kim',50000000)\n",
    "lee = Account('lee',3400000)\n",
    "park = Account('park',250)\n",
    "\n",
    "Account_list.append(kim)\n",
    "Account_list.append(lee)\n",
    "Account_list.append(park)\n",
    "\n",
    "for name in Account_list:\n",
    "    if name.money >= 1000000 :\n",
    "        name.display_info()"
   ]
  },
  {
   "cell_type": "code",
   "execution_count": 45,
   "metadata": {},
   "outputs": [
    {
     "name": "stdout",
     "output_type": "stream",
     "text": [
      "100\n",
      "200\n",
      "300\n",
      "100\n",
      "200\n"
     ]
    }
   ],
   "source": [
    "#280 입출금 내역\n",
    "#입금과 출금 내역이 기록되도록 코드를 업데이트 하세요. 입금 내역과 출금 내역을 출력하는 deposit_history와 withdraw_history 메서드를 추가하세요.\n",
    "\n",
    "import random\n",
    "\n",
    "class Account:\n",
    "    \n",
    "    account_count = 0   # 클래스로부터 생성된 계좌 객체의 수\n",
    "    \n",
    "    def __init__(self,예금주,초기잔액):  # 생성자\n",
    "        self.deposit_count = 0  # 객체가 생성될 때 카운트 0으로 초기화\n",
    "        self.deposit_log = []   # 객체가 생성될 때, empty list 생성\n",
    "        self.withdraw_log = []\n",
    "        \n",
    "        \n",
    "        self.name = 예금주\n",
    "        self.money = 초기잔액\n",
    "        self.bank = 'SC은행'\n",
    "        \n",
    "        num1 = random.randint(0,999)   # 0과 999를 포함하는 랜덤값\n",
    "        num2 = random.randint(0,99)\n",
    "        num3 = random.randint(0,999999)\n",
    "        \n",
    "        num1 = str(num1).zfill(3)   # 문자열로 변경 후, 3자리로 맞춰줌\n",
    "        num2 = str(num2).zfill(2)\n",
    "        num3 = str(num3).zfill(6)\n",
    "        \n",
    "        self.account = num1 + '-' + num2 + '-' + num3\n",
    "        \n",
    "        Account.account_count += 1   # 계좌 객체 수 1씩 증가\n",
    "        \n",
    "    @classmethod\n",
    "    def get_account_num(a):\n",
    "        print(a)\n",
    "        print(a.account_count)    #Account 클래스로부터 생성된 계좌의 개수 출력하는 메서드\n",
    "        \n",
    "    def deposit(self,amount):   # 입금을 위한 메서드\n",
    "        if amount >=1 :  # 입금액이 1원 이상일때\n",
    "            self.deposit_log.append(amount)   # 입금을 할때마다, 리스트에 내역 추가\n",
    "            self.money += amount\n",
    "            \n",
    "            self.deposit_count += 1\n",
    "            if self.deposit_count % 5 ==0 :  # 5회씩 1% 이자 추가\n",
    "                self.money = (self.money * 1.01)\n",
    "            \n",
    "    def withdraw(self,out):    # 출금을 위한 메서드 \n",
    "        if self.money > out :\n",
    "            self.withdraw_log.append(out)\n",
    "            self.money -= out\n",
    "            \n",
    "    def display_info(self):\n",
    "        print('은행이름 : ',self.bank)\n",
    "        print('예금주 : ',self.name)\n",
    "        print('계좌번호 : ',self.account)\n",
    "        print('잔고 : ',self.money,'원')\n",
    "        \n",
    "    def deposit_history(self):\n",
    "        for log in self.deposit_log:\n",
    "            print(log)\n",
    "            \n",
    "    def withdraw_history(self):\n",
    "        for log in self.withdraw_log:\n",
    "            print(log)\n",
    "            \n",
    "    \n",
    "k = Account(\"Kim\", 1000)\n",
    "k.deposit(100)\n",
    "k.deposit(200)\n",
    "k.deposit(300)\n",
    "k.deposit_history()\n",
    "\n",
    "k.withdraw(100)\n",
    "k.withdraw(200)\n",
    "k.withdraw_history()\n"
   ]
  },
  {
   "cell_type": "code",
   "execution_count": 50,
   "metadata": {},
   "outputs": [],
   "source": [
    "#281 클래스 정의\n",
    "#다음 코드가 동작하도록 차 클래스를 정의하세요.\n",
    "\n",
    "class 차 :\n",
    "    def __init__(self,바퀴,가격):\n",
    "        self.바퀴 = 바퀴\n",
    "        self.가격 = 가격"
   ]
  },
  {
   "cell_type": "code",
   "execution_count": 51,
   "metadata": {},
   "outputs": [
    {
     "data": {
      "text/plain": [
       "2"
      ]
     },
     "execution_count": 51,
     "metadata": {},
     "output_type": "execute_result"
    }
   ],
   "source": [
    "car = 차(2,1000)\n",
    "car.바퀴"
   ]
  },
  {
   "cell_type": "code",
   "execution_count": 52,
   "metadata": {},
   "outputs": [
    {
     "data": {
      "text/plain": [
       "1000"
      ]
     },
     "execution_count": 52,
     "metadata": {},
     "output_type": "execute_result"
    }
   ],
   "source": [
    "car.가격"
   ]
  },
  {
   "cell_type": "code",
   "execution_count": 54,
   "metadata": {},
   "outputs": [],
   "source": [
    "#282 클래스 상속\n",
    "#차 클래스를 상속받은 자전차 클래스를 정의하세요.\n",
    "\n",
    "class 차 :\n",
    "    def __init__(self,바퀴,가격):\n",
    "        self.바퀴 = 바퀴\n",
    "        self.가격 = 가격\n",
    "        \n",
    "class 자전차(차):\n",
    "    pass"
   ]
  },
  {
   "cell_type": "code",
   "execution_count": 55,
   "metadata": {},
   "outputs": [
    {
     "data": {
      "text/plain": [
       "100"
      ]
     },
     "execution_count": 55,
     "metadata": {},
     "output_type": "execute_result"
    }
   ],
   "source": [
    "#283 클래스 상속\n",
    "#다음 코드가 동작하도록 자전차 클래스를 정의하세요. 단 자전차 클래스는 차 클래스를 상속받습니다.\n",
    "\n",
    "class 차 :\n",
    "    def __init__(self,바퀴,가격):\n",
    "        self.바퀴 = 바퀴\n",
    "        self.가격 = 가격\n",
    "        \n",
    "class 자전차(차):\n",
    "    def __init__(self,바퀴,가격):\n",
    "        self.바퀴 = 바퀴\n",
    "        self.가격 = 가격\n",
    "        \n",
    "bicycle = 자전차(2, 100)\n",
    "bicycle.가격"
   ]
  },
  {
   "cell_type": "code",
   "execution_count": 59,
   "metadata": {},
   "outputs": [
    {
     "name": "stdout",
     "output_type": "stream",
     "text": [
      "부모클래스(차) 생성자 호출함\n"
     ]
    },
    {
     "data": {
      "text/plain": [
       "'시마노'"
      ]
     },
     "execution_count": 59,
     "metadata": {},
     "output_type": "execute_result"
    }
   ],
   "source": [
    "#284 클래스 상속\n",
    "#다음 코드가 동작하도록 자전차 클래스를 정의하세요. 단 자전차 클래스는 차 클래스를 상속받습니다.\n",
    "\n",
    "class 차 :\n",
    "    def __init__(self,바퀴,가격):\n",
    "        print(\"부모클래스(차) 생성자 호출함\")\n",
    "        self.바퀴 = 바퀴\n",
    "        self.가격 = 가격\n",
    "\n",
    "        \n",
    "class 자전차(차):\n",
    "    def __init__(self,바퀴,가격,구동계):\n",
    "        super().__init__(바퀴,가격)   #부모(super)클래스의 생성자 호출 -- 중복되어 있어 가져옴\n",
    "        # == 차.__init__(self,바퀴,가격)\n",
    "        \n",
    "        self.구동계= 구동계\n",
    "        \n",
    "bicycle = 자전차(2, 100, \"시마노\")\n",
    "bicycle.구동계    "
   ]
  },
  {
   "cell_type": "code",
   "execution_count": 61,
   "metadata": {},
   "outputs": [
    {
     "name": "stdout",
     "output_type": "stream",
     "text": [
      "바퀴수 4\n",
      "가격 1000\n"
     ]
    }
   ],
   "source": [
    "#285 클래스 상속\n",
    "#다음 코드가 동작하도록 차 클래스를 상속받는 자동차 클래스를 정의하세요.\n",
    "\n",
    "class 차 :\n",
    "    def __init__(self,바퀴,가격):\n",
    "        self.바퀴 = 바퀴\n",
    "        self.가격 = 가격\n",
    "        \n",
    "class 자동차(차):\n",
    "    def __init__(self,바퀴,가격):\n",
    "        super().__init__(바퀴,가격)\n",
    "        \n",
    "    def 정보(self):\n",
    "        print('바퀴수' , self.바퀴)\n",
    "        print('가격' , self.가격)\n",
    "        \n",
    "car = 자동차(4,1000)\n",
    "car.정보()"
   ]
  },
  {
   "cell_type": "code",
   "execution_count": 62,
   "metadata": {},
   "outputs": [
    {
     "name": "stdout",
     "output_type": "stream",
     "text": [
      "바퀴수 2\n",
      "가격 100\n"
     ]
    }
   ],
   "source": [
    "#286 부모 클래스 생성자 호출\n",
    "#다음 코드가 동작하도록 자전차 클래스를 수정하세요.\n",
    "\n",
    "class 차 :\n",
    "    def __init__(self,바퀴,가격):\n",
    "        self.바퀴 = 바퀴\n",
    "        self.가격 = 가격\n",
    "        \n",
    "    def 정보(self):\n",
    "        print('바퀴수' , self.바퀴)\n",
    "        print('가격' , self.가격)\n",
    "        \n",
    "        \n",
    "class 자동차(차):\n",
    "    def __init__(self,바퀴,가격):\n",
    "        super().__init__(바퀴,가격)\n",
    "        \n",
    "        \n",
    "class 자전차(차):\n",
    "    def __init__(self,바퀴,가격,구동계):\n",
    "        super().__init__(바퀴,가격)\n",
    "        \n",
    "        self.구동계 = 구동계\n",
    "        \n",
    "bicycle = 자전차(2, 100, \"시마노\")\n",
    "bicycle.정보()        \n",
    "        "
   ]
  },
  {
   "cell_type": "code",
   "execution_count": 63,
   "metadata": {},
   "outputs": [
    {
     "name": "stdout",
     "output_type": "stream",
     "text": [
      "바퀴수 2\n",
      "가격 100\n",
      "구동계 시마노\n"
     ]
    }
   ],
   "source": [
    "#287 부모 클래스 메서드 호출\n",
    "#자전차의 정보() 메서드로 구동계 정보까지 출력하도록 수정해보세요.\n",
    "\n",
    "class 차 :\n",
    "    def __init__(self,바퀴,가격):\n",
    "        self.바퀴 = 바퀴\n",
    "        self.가격 = 가격\n",
    "        \n",
    "    def 정보(self):\n",
    "        print('바퀴수' , self.바퀴)\n",
    "        print('가격' , self.가격)\n",
    "        \n",
    "        \n",
    "class 자동차(차):\n",
    "    def __init__(self,바퀴,가격):\n",
    "        super().__init__(바퀴,가격)\n",
    "        \n",
    "        \n",
    "class 자전차(차):\n",
    "    def __init__(self,바퀴,가격,구동계):\n",
    "        super().__init__(바퀴,가격)\n",
    "        \n",
    "        self.구동계 = 구동계\n",
    "        \n",
    "    def 정보(self):\n",
    "        super().정보()\n",
    "        print('구동계' , self.구동계)\n",
    "        \n",
    "bicycle = 자전차(2, 100, \"시마노\")\n",
    "bicycle.정보()"
   ]
  },
  {
   "cell_type": "code",
   "execution_count": 64,
   "metadata": {},
   "outputs": [
    {
     "name": "stdout",
     "output_type": "stream",
     "text": [
      "자식호출\n"
     ]
    }
   ],
   "source": [
    "#288 메서드 오버라이딩\n",
    "#다음 코드의 실행 결과를 예상해보세요.\n",
    "\n",
    "class 부모:\n",
    "    def 호출(self):\n",
    "        print(\"부모호출\")\n",
    "\n",
    "class 자식(부모):\n",
    "    def 호출(self):\n",
    "        print(\"자식호출\")\n",
    "        \n",
    "나 = 자식()\n",
    "나.호출()\n",
    "\n",
    "# 부모호출(X) / 자식호출   ----- super로 소환 안함"
   ]
  },
  {
   "cell_type": "code",
   "execution_count": 65,
   "metadata": {},
   "outputs": [
    {
     "name": "stdout",
     "output_type": "stream",
     "text": [
      "자식생성\n"
     ]
    }
   ],
   "source": [
    "#289 생성자\n",
    "#다음 코드의 실행 결과를 예상해보세요.\n",
    "\n",
    "class 부모:\n",
    "    def __init__(self):\n",
    "        print(\"부모생성\")\n",
    "\n",
    "class 자식(부모):\n",
    "    def __init__(self):\n",
    "        print(\"자식생성\")\n",
    "        2\n",
    "나 = 자식()\n",
    "# 자식생성"
   ]
  },
  {
   "cell_type": "code",
   "execution_count": 66,
   "metadata": {},
   "outputs": [
    {
     "name": "stdout",
     "output_type": "stream",
     "text": [
      "자식생성\n",
      "부모생성\n"
     ]
    }
   ],
   "source": [
    "#290 부모클래스 생성자 호출\n",
    "#다음 코드의 실행 결과를 예상해보세요.\n",
    "\n",
    "class 부모:\n",
    "    def __init__(self):\n",
    "        print(\"부모생성\")\n",
    "\n",
    "class 자식(부모):\n",
    "    def __init__(self):\n",
    "        print(\"자식생성\")\n",
    "        super().__init__()\n",
    "\n",
    "나 = 자식()\n",
    "\n",
    "# 자식생성 / 부모생성"
   ]
  }
 ],
 "metadata": {
  "kernelspec": {
   "display_name": "Python 3",
   "language": "python",
   "name": "python3"
  },
  "language_info": {
   "codemirror_mode": {
    "name": "ipython",
    "version": 3
   },
   "file_extension": ".py",
   "mimetype": "text/x-python",
   "name": "python",
   "nbconvert_exporter": "python",
   "pygments_lexer": "ipython3",
   "version": "3.7.9"
  }
 },
 "nbformat": 4,
 "nbformat_minor": 4
}
