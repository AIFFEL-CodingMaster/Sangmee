{
 "cells": [
  {
   "cell_type": "markdown",
   "metadata": {},
   "source": [
    "# 파이썬 분기문 if (101-130)"
   ]
  },
  {
   "cell_type": "code",
   "execution_count": 1,
   "metadata": {},
   "outputs": [
    {
     "name": "stdout",
     "output_type": "stream",
     "text": [
      "True/False 데이터 타입은 Bool 타입이다.\n"
     ]
    }
   ],
   "source": [
    "#101\n",
    "#파이썬에서 True 혹은 False를 갖는 데이터 타입은 무엇인가?\n",
    "\n",
    "print(\"True/False 데이터 타입은 Bool 타입이다.\")"
   ]
  },
  {
   "cell_type": "code",
   "execution_count": 2,
   "metadata": {},
   "outputs": [
    {
     "name": "stdout",
     "output_type": "stream",
     "text": [
      "False\n"
     ]
    }
   ],
   "source": [
    "#102\n",
    "#아래 코드의 출력 결과를 예상하라\n",
    "\n",
    "print(3 == 5) # False"
   ]
  },
  {
   "cell_type": "code",
   "execution_count": 3,
   "metadata": {},
   "outputs": [
    {
     "name": "stdout",
     "output_type": "stream",
     "text": [
      "True\n"
     ]
    }
   ],
   "source": [
    "#103\n",
    "#아래 코드의 출력 결과를 예상하라\n",
    "\n",
    "print(3 < 5) #True"
   ]
  },
  {
   "cell_type": "code",
   "execution_count": 4,
   "metadata": {},
   "outputs": [
    {
     "name": "stdout",
     "output_type": "stream",
     "text": [
      "True\n"
     ]
    }
   ],
   "source": [
    "#104\n",
    "#아래 코드의 결과를 예상하라.\n",
    "\n",
    "x = 4\n",
    "print(1 < x < 5) #True"
   ]
  },
  {
   "cell_type": "code",
   "execution_count": 5,
   "metadata": {},
   "outputs": [
    {
     "name": "stdout",
     "output_type": "stream",
     "text": [
      "True\n"
     ]
    }
   ],
   "source": [
    "#105\n",
    "#아래 코드의 결과를 예상하라.\n",
    "\n",
    "print ((3 == 3) and (4 != 3)) #True"
   ]
  },
  {
   "cell_type": "code",
   "execution_count": 6,
   "metadata": {},
   "outputs": [
    {
     "name": "stdout",
     "output_type": "stream",
     "text": [
      "False\n"
     ]
    }
   ],
   "source": [
    "#106\n",
    "#아래 코드에서 에러가 발생하는 원인에 대해 설명하라.\n",
    "\n",
    "#print(3 => 4) \n",
    "print(3>=4) #로 써야함"
   ]
  },
  {
   "cell_type": "code",
   "execution_count": 9,
   "metadata": {},
   "outputs": [],
   "source": [
    "#107\n",
    "#아래 코드의 출력 결과를 예상하라\n",
    "\n",
    "if 4 < 3:\n",
    "    print(\"Hello World\")\n",
    "# 조건이 만족하지 않아 출력값이 없다"
   ]
  },
  {
   "cell_type": "code",
   "execution_count": 10,
   "metadata": {},
   "outputs": [
    {
     "name": "stdout",
     "output_type": "stream",
     "text": [
      "Hi, there.\n"
     ]
    }
   ],
   "source": [
    "#108\n",
    "#아래 코드의 출력 결과를 예상하라\n",
    "\n",
    "if 4 < 3:\n",
    "    print(\"Hello World.\")\n",
    "else:\n",
    "    print(\"Hi, there.\")\n",
    "    \n",
    "# Hi,there이다"
   ]
  },
  {
   "cell_type": "code",
   "execution_count": 12,
   "metadata": {},
   "outputs": [
    {
     "name": "stdout",
     "output_type": "stream",
     "text": [
      "1\n",
      "2\n",
      "4\n"
     ]
    }
   ],
   "source": [
    "#109\n",
    "#아래 코드의 출력 결과를 예상하라\n",
    "\n",
    "if True :\n",
    "    print (\"1\")\n",
    "    print (\"2\")\n",
    "else :\n",
    "    print(\"3\")\n",
    "print(\"4\")\n",
    "\n",
    "# 현재 True : 1,2,4"
   ]
  },
  {
   "cell_type": "code",
   "execution_count": 13,
   "metadata": {},
   "outputs": [
    {
     "name": "stdout",
     "output_type": "stream",
     "text": [
      "3\n",
      "5\n"
     ]
    }
   ],
   "source": [
    "#110\n",
    "#아래 코드의 출력 결과를 예상하라\n",
    "\n",
    "if True :\n",
    "    if False:\n",
    "        print(\"1\")\n",
    "        print(\"2\")\n",
    "    else:\n",
    "        print(\"3\")\n",
    "else :\n",
    "    print(\"4\")\n",
    "print(\"5\")\n",
    "\n",
    "# 3, 5출력"
   ]
  },
  {
   "cell_type": "code",
   "execution_count": 14,
   "metadata": {},
   "outputs": [
    {
     "name": "stdout",
     "output_type": "stream",
     "text": [
      "입력해주세요: 안녕하세요\n",
      "안녕하세요안녕하세요\n"
     ]
    }
   ],
   "source": [
    "#111\n",
    "#사용자로부터 입력받은 문자열을 두 번 출력하라. 아래는 사용자가 \"안녕하세요\"를 입력한 경우의 출력 결과이다.\n",
    "\n",
    "#>> 안녕하세요\n",
    "#안녕하세요안녕하세요\n",
    "\n",
    "user = input(\"입력해주세요: \")\n",
    "print(user*2)"
   ]
  },
  {
   "cell_type": "code",
   "execution_count": 16,
   "metadata": {},
   "outputs": [
    {
     "name": "stdout",
     "output_type": "stream",
     "text": [
      "숫자를 입력하세요: 30\n",
      "40\n"
     ]
    }
   ],
   "source": [
    "#112\n",
    "#사용자로부터 하나의 숫자를 입력받고, 입력 받은 숫자에 10을 더해 출력하라.\n",
    "\n",
    "#>> 숫자를 입력하세요: 30\n",
    "#40\n",
    "\n",
    "num = input(\"숫자를 입력하세요: \")\n",
    "print(int(num)+10)    #num을 정수로 변환해줘야 함!!"
   ]
  },
  {
   "cell_type": "code",
   "execution_count": 24,
   "metadata": {},
   "outputs": [
    {
     "name": "stdout",
     "output_type": "stream",
     "text": [
      "숫자를 하나 입력해주세요 : 3\n",
      "홀수\n"
     ]
    }
   ],
   "source": [
    "#113\n",
    "#사용자로부터 하나의 숫자를 입력 받고 짝수/홀수를 판별하라.\n",
    "\n",
    "#>> 30\n",
    "#짝수\n",
    "\n",
    "num = input(\"숫자를 하나 입력해주세요 : \")\n",
    "\n",
    "if (int(num) % 2 == 0):\n",
    "    print(\"짝수\")\n",
    "else : \n",
    "    print(\"홀수\")"
   ]
  },
  {
   "cell_type": "code",
   "execution_count": 27,
   "metadata": {},
   "outputs": [
    {
     "name": "stdout",
     "output_type": "stream",
     "text": [
      "숫자를 입력하세요: 260\n",
      "255\n"
     ]
    }
   ],
   "source": [
    "#114\n",
    "#사용자로부터 값을 입력받은 후 해당 값에 20을 더한 값을 출력하라. \n",
    "#단 사용자가 입력한 값과 20을 더한 계산 값이 255를 초과하는 경우 255를 출력해야 한다.\n",
    "\n",
    "num = input(\"숫자를 입력하세요: \")\n",
    "final = int(num)+20\n",
    "\n",
    "if final>255 :\n",
    "    print(int(255))\n",
    "else :\n",
    "    print(final)"
   ]
  },
  {
   "cell_type": "code",
   "execution_count": 31,
   "metadata": {},
   "outputs": [
    {
     "name": "stdout",
     "output_type": "stream",
     "text": [
      "숫자를 입력해주세요 : 245\n",
      "225\n"
     ]
    }
   ],
   "source": [
    "#115\n",
    "#사용자로부터 하나의 값을 입력받은 후 해당 값에 20을 뺀 값을 출력하라. \n",
    "#단 출력 값의 범위는 0~255이다. 예를 들어 결괏값이 0보다 작은 값이되는 경우 0을 출력하고 255보다 큰 값이 되는 경우 255를 출력해야 한다.\n",
    "\n",
    "user = input(\"숫자를 입력해주세요 : \")\n",
    "num = int(user) - 20\n",
    "\n",
    "if num<0 :\n",
    "    print (0)\n",
    "elif num>255 :\n",
    "    print (255)\n",
    "else :\n",
    "    print(num)"
   ]
  },
  {
   "cell_type": "code",
   "execution_count": 33,
   "metadata": {},
   "outputs": [
    {
     "name": "stdout",
     "output_type": "stream",
     "text": [
      "현재시간 : 2:00\n",
      "정각입니다.\n"
     ]
    }
   ],
   "source": [
    "#116\n",
    "#사용자로부터 입력 받은 시간이 정각인지 판별하라.\n",
    "\n",
    "time = input(\"현재시간 : \")\n",
    "if time[-2:]==\"00\":\n",
    "    print(\"정각입니다.\")\n",
    "else :\n",
    "    print(\"정각이 아닙니다.\")"
   ]
  },
  {
   "cell_type": "code",
   "execution_count": 35,
   "metadata": {},
   "outputs": [
    {
     "name": "stdout",
     "output_type": "stream",
     "text": [
      "과일 이름을 입력해주세요 : 사과\n",
      "정답입니다.\n"
     ]
    }
   ],
   "source": [
    "#117\n",
    "#사용자로 입력받은 단어가 아래 fruit 리스트에 포함되어 있는지를 확인하라. \n",
    "#포함되었다면 \"정답입니다\"를 아닐 경우 \"오답입니다\" 출력하라.\n",
    "\n",
    "fruit = [\"사과\", \"포도\", \"홍시\"]\n",
    "\n",
    "user = input(\"과일 이름을 입력해주세요 : \")\n",
    "\n",
    "if user in fruit:\n",
    "    print(\"정답입니다.\")\n",
    "else :\n",
    "    print(\"오답입니다.\")"
   ]
  },
  {
   "cell_type": "code",
   "execution_count": 36,
   "metadata": {},
   "outputs": [
    {
     "name": "stdout",
     "output_type": "stream",
     "text": [
      "투자 하려는 종목명을 입력하세요. : LG\n",
      "투자 경고 종목입니다.\n"
     ]
    }
   ],
   "source": [
    "#118\n",
    "#투자 경고 종목 리스트가 있을 때 사용자로부터 종목명을 입력 받은 후 해당 종목이 투자 경고 종목이라면 '투자 경고 종목입니다'를 \n",
    "#아니면 \"투자 경고 종목이 아닙니다.\"를 출력하는 프로그램을 작성하라.\n",
    "\n",
    "warn_investment_list = [\"Microsoft\", \"Google\", \"Naver\", \"Kakao\", \"SAMSUNG\", \"LG\"]\n",
    "\n",
    "user = input(\"투자 하려는 종목명을 입력하세요. : \")\n",
    "\n",
    "if user in warn_investment_list: \n",
    "    print(\"투자 경고 종목입니다.\")\n",
    "else:\n",
    "    print(\"투자 경고 종목이 아닙니다.\")"
   ]
  },
  {
   "cell_type": "code",
   "execution_count": 37,
   "metadata": {},
   "outputs": [
    {
     "name": "stdout",
     "output_type": "stream",
     "text": [
      "제가 좋아하는 계절은 : 봄\n",
      "정답입니다.\n"
     ]
    }
   ],
   "source": [
    "#119\n",
    "#아래와 같이 fruit 딕셔너리가 정의되어 있다. 사용자가 입력한 값이 딕셔너리 키 (key) 값에 포함되었다면 \"정답입니다\"를 아닐 경우 \"오답입니다\" 출력하라.\n",
    "\n",
    "fruit = {\"봄\" : \"딸기\", \"여름\" : \"토마토\", \"가을\" : \"사과\"}\n",
    "\n",
    "user = input(\"제가 좋아하는 계절은 : \")\n",
    "\n",
    "if user in fruit.keys():\n",
    "    print(\"정답입니다.\")\n",
    "else :\n",
    "    print(\"오답입니다.\")"
   ]
  },
  {
   "cell_type": "code",
   "execution_count": 38,
   "metadata": {},
   "outputs": [
    {
     "name": "stdout",
     "output_type": "stream",
     "text": [
      "좋아하는 과일은? 한라봉\n",
      "오답입니다.\n"
     ]
    }
   ],
   "source": [
    "#120\n",
    "#아래와 같이 fruit 딕셔너리가 정의되어 있다. \n",
    "#사용자가 입력한 값이 딕셔너리 값 (value)에 포함되었다면 \"정답입니다\"를 아닐 경우 \"오답입니다\" 출력하라.\n",
    "\n",
    "fruit = {\"봄\" : \"딸기\", \"여름\" : \"토마토\", \"가을\" : \"사과\"}\n",
    "\n",
    "user = input(\"좋아하는 과일은? \")\n",
    "\n",
    "if user in fruit.values():\n",
    "    print(\"정답입니다.\")\n",
    "else :\n",
    "    print(\"오답입니다.\")"
   ]
  },
  {
   "cell_type": "code",
   "execution_count": 43,
   "metadata": {},
   "outputs": [
    {
     "name": "stdout",
     "output_type": "stream",
     "text": [
      "문자 하나를 입력해주세요.k\n",
      "K\n"
     ]
    }
   ],
   "source": [
    "#121\n",
    "#사용자로부터 문자 한 개를 입력 받고, 소문자일 경우 대문자로, 대문자 일 경우, 소문자로 변경해서 출력하라.\n",
    "\n",
    "#힌트-1 : islower() 함수는 문자의 소문자 여부를 판별합니다. 만약 소문자일 경우 True, 대문자일 경우 False를 반환합니다. \n",
    "#힌트-2 : upper() 함수는 대문자로, lower() 함수는 소문자로 변경합니다.\n",
    "\n",
    "user = input(\"문자 하나를 입력해주세요.\")\n",
    "if user.islower() :\n",
    "    print(user.upper())\n",
    "else :\n",
    "    print(user.lower())\n"
   ]
  },
  {
   "cell_type": "code",
   "execution_count": 45,
   "metadata": {},
   "outputs": [
    {
     "name": "stdout",
     "output_type": "stream",
     "text": [
      "점수를 입력하세요.56\n",
      "학점은 C 입니다.\n"
     ]
    }
   ],
   "source": [
    "#122\n",
    "#점수 구간에 해당하는 학점이 아래와 같이 정의되어 있다. 사용자로부터 score를 입력받아 학점을 출력하라.\n",
    "\n",
    "#점수\t학점\n",
    "#81~100\tA\n",
    "#61~80\tB\n",
    "#41~60\tC\n",
    "#21~40\tD\n",
    "#0~20\tE\n",
    "\n",
    "user = input(\"점수를 입력하세요.\")\n",
    "score = int(user)\n",
    "if 81<= score <= 100:\n",
    "    print(\"학점은 A 입니다.\")\n",
    "elif 61<= score <=80:\n",
    "    print(\"학점은 B 입니다.\")\n",
    "elif 41<= score <=60:\n",
    "    print(\"학점은 C 입니다.\")\n",
    "elif 21<= score <=40:\n",
    "    print(\"학점은 D 입니다.\")\n",
    "else :\n",
    "    print(\"학점은 E 입니다.\")"
   ]
  },
  {
   "cell_type": "code",
   "execution_count": null,
   "metadata": {},
   "outputs": [],
   "source": [
    "#123\n",
    "#사용자로부터 달러, 엔, 유로, 또는 위안 금액을 입력받은 후 이를 원으로 변환하는 프로그램을 작성하라. \n",
    "#각 통화별 환율은 다음과 같다. 사용자는 100 달러, 1000 엔, 13 유로, 100 위안과 같이 금액과 통화명 사이에 공백을 넣어 입력한다고 가정한다.\n",
    "\n",
    "#통화명\t환율\n",
    "#달러\t1167\n",
    "#엔\t1.096\n",
    "#유로\t1268\n",
    "#위안\t171\n",
    "\n",
    "환율 = {\"달러\":1167,\"엔\":1.096,\"유로\":1268,\"위안\":171}\n",
    "user = input(\"입력: \")\n"
   ]
  },
  {
   "cell_type": "code",
   "execution_count": null,
   "metadata": {},
   "outputs": [],
   "source": []
  },
  {
   "cell_type": "code",
   "execution_count": null,
   "metadata": {},
   "outputs": [],
   "source": []
  },
  {
   "cell_type": "code",
   "execution_count": null,
   "metadata": {},
   "outputs": [],
   "source": []
  }
 ],
 "metadata": {
  "kernelspec": {
   "display_name": "Python 3",
   "language": "python",
   "name": "python3"
  },
  "language_info": {
   "codemirror_mode": {
    "name": "ipython",
    "version": 3
   },
   "file_extension": ".py",
   "mimetype": "text/x-python",
   "name": "python",
   "nbconvert_exporter": "python",
   "pygments_lexer": "ipython3",
   "version": "3.7.9"
  }
 },
 "nbformat": 4,
 "nbformat_minor": 4
}
