{
 "cells": [
  {
   "cell_type": "markdown",
   "metadata": {},
   "source": [
    "# 파이썬 분기문 if (101-130)"
   ]
  },
  {
   "cell_type": "code",
   "execution_count": 1,
   "metadata": {},
   "outputs": [
    {
     "name": "stdout",
     "output_type": "stream",
     "text": [
      "True/False 데이터 타입은 Bool 타입이다.\n"
     ]
    }
   ],
   "source": [
    "#101\n",
    "#파이썬에서 True 혹은 False를 갖는 데이터 타입은 무엇인가?\n",
    "\n",
    "print(\"True/False 데이터 타입은 Bool 타입이다.\")"
   ]
  },
  {
   "cell_type": "code",
   "execution_count": 2,
   "metadata": {},
   "outputs": [
    {
     "name": "stdout",
     "output_type": "stream",
     "text": [
      "False\n"
     ]
    }
   ],
   "source": [
    "#102\n",
    "#아래 코드의 출력 결과를 예상하라\n",
    "\n",
    "print(3 == 5) # False"
   ]
  },
  {
   "cell_type": "code",
   "execution_count": 3,
   "metadata": {},
   "outputs": [
    {
     "name": "stdout",
     "output_type": "stream",
     "text": [
      "True\n"
     ]
    }
   ],
   "source": [
    "#103\n",
    "#아래 코드의 출력 결과를 예상하라\n",
    "\n",
    "print(3 < 5) #True"
   ]
  },
  {
   "cell_type": "code",
   "execution_count": 4,
   "metadata": {},
   "outputs": [
    {
     "name": "stdout",
     "output_type": "stream",
     "text": [
      "True\n"
     ]
    }
   ],
   "source": [
    "#104\n",
    "#아래 코드의 결과를 예상하라.\n",
    "\n",
    "x = 4\n",
    "print(1 < x < 5) #True"
   ]
  },
  {
   "cell_type": "code",
   "execution_count": 5,
   "metadata": {},
   "outputs": [
    {
     "name": "stdout",
     "output_type": "stream",
     "text": [
      "True\n"
     ]
    }
   ],
   "source": [
    "#105\n",
    "#아래 코드의 결과를 예상하라.\n",
    "\n",
    "print ((3 == 3) and (4 != 3)) #True"
   ]
  },
  {
   "cell_type": "code",
   "execution_count": 6,
   "metadata": {},
   "outputs": [
    {
     "name": "stdout",
     "output_type": "stream",
     "text": [
      "False\n"
     ]
    }
   ],
   "source": [
    "#106\n",
    "#아래 코드에서 에러가 발생하는 원인에 대해 설명하라.\n",
    "\n",
    "#print(3 => 4) \n",
    "print(3>=4) #로 써야함"
   ]
  },
  {
   "cell_type": "code",
   "execution_count": 9,
   "metadata": {},
   "outputs": [],
   "source": [
    "#107\n",
    "#아래 코드의 출력 결과를 예상하라\n",
    "\n",
    "if 4 < 3:\n",
    "    print(\"Hello World\")\n",
    "# 조건이 만족하지 않아 출력값이 없다"
   ]
  },
  {
   "cell_type": "code",
   "execution_count": 10,
   "metadata": {},
   "outputs": [
    {
     "name": "stdout",
     "output_type": "stream",
     "text": [
      "Hi, there.\n"
     ]
    }
   ],
   "source": [
    "#108\n",
    "#아래 코드의 출력 결과를 예상하라\n",
    "\n",
    "if 4 < 3:\n",
    "    print(\"Hello World.\")\n",
    "else:\n",
    "    print(\"Hi, there.\")\n",
    "    \n",
    "# Hi,there이다"
   ]
  },
  {
   "cell_type": "code",
   "execution_count": 12,
   "metadata": {},
   "outputs": [
    {
     "name": "stdout",
     "output_type": "stream",
     "text": [
      "1\n",
      "2\n",
      "4\n"
     ]
    }
   ],
   "source": [
    "#109\n",
    "#아래 코드의 출력 결과를 예상하라\n",
    "\n",
    "if True :\n",
    "    print (\"1\")\n",
    "    print (\"2\")\n",
    "else :\n",
    "    print(\"3\")\n",
    "print(\"4\")\n",
    "\n",
    "# 현재 True : 1,2,4"
   ]
  },
  {
   "cell_type": "code",
   "execution_count": 13,
   "metadata": {},
   "outputs": [
    {
     "name": "stdout",
     "output_type": "stream",
     "text": [
      "3\n",
      "5\n"
     ]
    }
   ],
   "source": [
    "#110\n",
    "#아래 코드의 출력 결과를 예상하라\n",
    "\n",
    "if True :\n",
    "    if False:\n",
    "        print(\"1\")\n",
    "        print(\"2\")\n",
    "    else:\n",
    "        print(\"3\")\n",
    "else :\n",
    "    print(\"4\")\n",
    "print(\"5\")\n",
    "\n",
    "# 3, 5출력"
   ]
  },
  {
   "cell_type": "code",
   "execution_count": 14,
   "metadata": {},
   "outputs": [
    {
     "name": "stdout",
     "output_type": "stream",
     "text": [
      "입력해주세요: 안녕하세요\n",
      "안녕하세요안녕하세요\n"
     ]
    }
   ],
   "source": [
    "#111\n",
    "#사용자로부터 입력받은 문자열을 두 번 출력하라. 아래는 사용자가 \"안녕하세요\"를 입력한 경우의 출력 결과이다.\n",
    "\n",
    "#>> 안녕하세요\n",
    "#안녕하세요안녕하세요\n",
    "\n",
    "user = input(\"입력해주세요: \")\n",
    "print(user*2)"
   ]
  },
  {
   "cell_type": "code",
   "execution_count": 16,
   "metadata": {},
   "outputs": [
    {
     "name": "stdout",
     "output_type": "stream",
     "text": [
      "숫자를 입력하세요: 30\n",
      "40\n"
     ]
    }
   ],
   "source": [
    "#112\n",
    "#사용자로부터 하나의 숫자를 입력받고, 입력 받은 숫자에 10을 더해 출력하라.\n",
    "\n",
    "#>> 숫자를 입력하세요: 30\n",
    "#40\n",
    "\n",
    "num = input(\"숫자를 입력하세요: \")\n",
    "print(int(num)+10)    #num을 정수로 변환해줘야 함!!"
   ]
  },
  {
   "cell_type": "code",
   "execution_count": 24,
   "metadata": {},
   "outputs": [
    {
     "name": "stdout",
     "output_type": "stream",
     "text": [
      "숫자를 하나 입력해주세요 : 3\n",
      "홀수\n"
     ]
    }
   ],
   "source": [
    "#113\n",
    "#사용자로부터 하나의 숫자를 입력 받고 짝수/홀수를 판별하라.\n",
    "\n",
    "#>> 30\n",
    "#짝수\n",
    "\n",
    "num = input(\"숫자를 하나 입력해주세요 : \")\n",
    "\n",
    "if (int(num) % 2 == 0):\n",
    "    print(\"짝수\")\n",
    "else : \n",
    "    print(\"홀수\")"
   ]
  },
  {
   "cell_type": "code",
   "execution_count": 27,
   "metadata": {},
   "outputs": [
    {
     "name": "stdout",
     "output_type": "stream",
     "text": [
      "숫자를 입력하세요: 260\n",
      "255\n"
     ]
    }
   ],
   "source": [
    "#114\n",
    "#사용자로부터 값을 입력받은 후 해당 값에 20을 더한 값을 출력하라. \n",
    "#단 사용자가 입력한 값과 20을 더한 계산 값이 255를 초과하는 경우 255를 출력해야 한다.\n",
    "\n",
    "num = input(\"숫자를 입력하세요: \")\n",
    "final = int(num)+20\n",
    "\n",
    "if final>255 :\n",
    "    print(int(255))\n",
    "else :\n",
    "    print(final)"
   ]
  },
  {
   "cell_type": "code",
   "execution_count": 31,
   "metadata": {},
   "outputs": [
    {
     "name": "stdout",
     "output_type": "stream",
     "text": [
      "숫자를 입력해주세요 : 245\n",
      "225\n"
     ]
    }
   ],
   "source": [
    "#115\n",
    "#사용자로부터 하나의 값을 입력받은 후 해당 값에 20을 뺀 값을 출력하라. \n",
    "#단 출력 값의 범위는 0~255이다. 예를 들어 결괏값이 0보다 작은 값이되는 경우 0을 출력하고 255보다 큰 값이 되는 경우 255를 출력해야 한다.\n",
    "\n",
    "user = input(\"숫자를 입력해주세요 : \")\n",
    "num = int(user) - 20\n",
    "\n",
    "if num<0 :\n",
    "    print (0)\n",
    "elif num>255 :\n",
    "    print (255)\n",
    "else :\n",
    "    print(num)"
   ]
  },
  {
   "cell_type": "code",
   "execution_count": 33,
   "metadata": {},
   "outputs": [
    {
     "name": "stdout",
     "output_type": "stream",
     "text": [
      "현재시간 : 2:00\n",
      "정각입니다.\n"
     ]
    }
   ],
   "source": [
    "#116\n",
    "#사용자로부터 입력 받은 시간이 정각인지 판별하라.\n",
    "\n",
    "time = input(\"현재시간 : \")\n",
    "if time[-2:]==\"00\":\n",
    "    print(\"정각입니다.\")\n",
    "else :\n",
    "    print(\"정각이 아닙니다.\")"
   ]
  },
  {
   "cell_type": "code",
   "execution_count": 35,
   "metadata": {},
   "outputs": [
    {
     "name": "stdout",
     "output_type": "stream",
     "text": [
      "과일 이름을 입력해주세요 : 사과\n",
      "정답입니다.\n"
     ]
    }
   ],
   "source": [
    "#117\n",
    "#사용자로 입력받은 단어가 아래 fruit 리스트에 포함되어 있는지를 확인하라. \n",
    "#포함되었다면 \"정답입니다\"를 아닐 경우 \"오답입니다\" 출력하라.\n",
    "\n",
    "fruit = [\"사과\", \"포도\", \"홍시\"]\n",
    "\n",
    "user = input(\"과일 이름을 입력해주세요 : \")\n",
    "\n",
    "if user in fruit:\n",
    "    print(\"정답입니다.\")\n",
    "else :\n",
    "    print(\"오답입니다.\")"
   ]
  },
  {
   "cell_type": "code",
   "execution_count": 36,
   "metadata": {},
   "outputs": [
    {
     "name": "stdout",
     "output_type": "stream",
     "text": [
      "투자 하려는 종목명을 입력하세요. : LG\n",
      "투자 경고 종목입니다.\n"
     ]
    }
   ],
   "source": [
    "#118\n",
    "#투자 경고 종목 리스트가 있을 때 사용자로부터 종목명을 입력 받은 후 해당 종목이 투자 경고 종목이라면 '투자 경고 종목입니다'를 \n",
    "#아니면 \"투자 경고 종목이 아닙니다.\"를 출력하는 프로그램을 작성하라.\n",
    "\n",
    "warn_investment_list = [\"Microsoft\", \"Google\", \"Naver\", \"Kakao\", \"SAMSUNG\", \"LG\"]\n",
    "\n",
    "user = input(\"투자 하려는 종목명을 입력하세요. : \")\n",
    "\n",
    "if user in warn_investment_list: \n",
    "    print(\"투자 경고 종목입니다.\")\n",
    "else:\n",
    "    print(\"투자 경고 종목이 아닙니다.\")"
   ]
  },
  {
   "cell_type": "code",
   "execution_count": 37,
   "metadata": {},
   "outputs": [
    {
     "name": "stdout",
     "output_type": "stream",
     "text": [
      "제가 좋아하는 계절은 : 봄\n",
      "정답입니다.\n"
     ]
    }
   ],
   "source": [
    "#119\n",
    "#아래와 같이 fruit 딕셔너리가 정의되어 있다. 사용자가 입력한 값이 딕셔너리 키 (key) 값에 포함되었다면 \"정답입니다\"를 아닐 경우 \"오답입니다\" 출력하라.\n",
    "\n",
    "fruit = {\"봄\" : \"딸기\", \"여름\" : \"토마토\", \"가을\" : \"사과\"}\n",
    "\n",
    "user = input(\"제가 좋아하는 계절은 : \")\n",
    "\n",
    "if user in fruit.keys():\n",
    "    print(\"정답입니다.\")\n",
    "else :\n",
    "    print(\"오답입니다.\")"
   ]
  },
  {
   "cell_type": "code",
   "execution_count": 38,
   "metadata": {},
   "outputs": [
    {
     "name": "stdout",
     "output_type": "stream",
     "text": [
      "좋아하는 과일은? 한라봉\n",
      "오답입니다.\n"
     ]
    }
   ],
   "source": [
    "#120\n",
    "#아래와 같이 fruit 딕셔너리가 정의되어 있다. \n",
    "#사용자가 입력한 값이 딕셔너리 값 (value)에 포함되었다면 \"정답입니다\"를 아닐 경우 \"오답입니다\" 출력하라.\n",
    "\n",
    "fruit = {\"봄\" : \"딸기\", \"여름\" : \"토마토\", \"가을\" : \"사과\"}\n",
    "\n",
    "user = input(\"좋아하는 과일은? \")\n",
    "\n",
    "if user in fruit.values():\n",
    "    print(\"정답입니다.\")\n",
    "else :\n",
    "    print(\"오답입니다.\")"
   ]
  },
  {
   "cell_type": "code",
   "execution_count": 43,
   "metadata": {},
   "outputs": [
    {
     "name": "stdout",
     "output_type": "stream",
     "text": [
      "문자 하나를 입력해주세요.k\n",
      "K\n"
     ]
    }
   ],
   "source": [
    "#121\n",
    "#사용자로부터 문자 한 개를 입력 받고, 소문자일 경우 대문자로, 대문자 일 경우, 소문자로 변경해서 출력하라.\n",
    "\n",
    "#힌트-1 : islower() 함수는 문자의 소문자 여부를 판별합니다. 만약 소문자일 경우 True, 대문자일 경우 False를 반환합니다. \n",
    "#힌트-2 : upper() 함수는 대문자로, lower() 함수는 소문자로 변경합니다.\n",
    "\n",
    "user = input(\"문자 하나를 입력해주세요.\")\n",
    "if user.islower() :\n",
    "    print(user.upper())\n",
    "else :\n",
    "    print(user.lower())\n"
   ]
  },
  {
   "cell_type": "code",
   "execution_count": 45,
   "metadata": {},
   "outputs": [
    {
     "name": "stdout",
     "output_type": "stream",
     "text": [
      "점수를 입력하세요.56\n",
      "학점은 C 입니다.\n"
     ]
    }
   ],
   "source": [
    "#122\n",
    "#점수 구간에 해당하는 학점이 아래와 같이 정의되어 있다. 사용자로부터 score를 입력받아 학점을 출력하라.\n",
    "\n",
    "#점수\t학점\n",
    "#81~100\tA\n",
    "#61~80\tB\n",
    "#41~60\tC\n",
    "#21~40\tD\n",
    "#0~20\tE\n",
    "\n",
    "user = input(\"점수를 입력하세요.\")\n",
    "score = int(user)\n",
    "if 81<= score <= 100:\n",
    "    print(\"학점은 A 입니다.\")\n",
    "elif 61<= score <=80:\n",
    "    print(\"학점은 B 입니다.\")\n",
    "elif 41<= score <=60:\n",
    "    print(\"학점은 C 입니다.\")\n",
    "elif 21<= score <=40:\n",
    "    print(\"학점은 D 입니다.\")\n",
    "else :\n",
    "    print(\"학점은 E 입니다.\")"
   ]
  },
  {
   "cell_type": "code",
   "execution_count": 5,
   "metadata": {},
   "outputs": [
    {
     "name": "stdout",
     "output_type": "stream",
     "text": [
      "입력: 100 달러\n",
      "116700.0 원\n"
     ]
    }
   ],
   "source": [
    "#123\n",
    "#사용자로부터 달러, 엔, 유로, 또는 위안 금액을 입력받은 후 이를 원으로 변환하는 프로그램을 작성하라. \n",
    "#각 통화별 환율은 다음과 같다. 사용자는 100 달러, 1000 엔, 13 유로, 100 위안과 같이 금액과 통화명 사이에 공백을 넣어 입력한다고 가정한다.\n",
    "\n",
    "#통화명\t환율\n",
    "#달러\t1167\n",
    "#엔\t1.096\n",
    "#유로\t1268\n",
    "#위안\t171\n",
    "\n",
    "환율 = {\"달러\":1167,\"엔\":1.096,\"유로\":1268,\"위안\":171}\n",
    "user = input(\"입력: \")\n",
    "money = user.split()  #['100', '달러']\n",
    "amount , currency = money   #한번에 묶어서 나눠주기 가능!!!\n",
    "\n",
    "print(float(amount) * 환율[currency], \"원\")    "
   ]
  },
  {
   "cell_type": "markdown",
   "metadata": {},
   "source": [
    "## 123 질문\n",
    "print(float(amount) * 환율[currency], \"원\")    에서 **환율[currency]**는 정확히 어떤 것을 가르키는 것인가요???"
   ]
  },
  {
   "cell_type": "code",
   "execution_count": 21,
   "metadata": {},
   "outputs": [
    {
     "name": "stdout",
     "output_type": "stream",
     "text": [
      "입력: 123 유로\n",
      "155964.0 원\n"
     ]
    }
   ],
   "source": [
    "#123-1(if문 이용)\n",
    "\n",
    "환율 = {\"달러\":1167,\"엔\":1.096,\"유로\":1268,\"위안\":171}\n",
    "user = input(\"입력: \")\n",
    "#currency = user[-2:] , money = user[:-2]  (단위의 글자수가 달라서 사용 불가)\n",
    "money, currency = user.split()\n",
    "\n",
    "if currency == \"달러\":\n",
    "    print(float(money)*1167,\"원\")\n",
    "elif currency == \"엔\" :\n",
    "    print(float(money)*1.096,\"원\")\n",
    "elif currency == \"유로\" :\n",
    "    print(float(money)*1268,\"원\")\n",
    "else :\n",
    "    print(float(money)*171,\"원\")"
   ]
  },
  {
   "cell_type": "code",
   "execution_count": 10,
   "metadata": {},
   "outputs": [
    {
     "name": "stdout",
     "output_type": "stream",
     "text": [
      "첫번째 숫자: 34\n",
      "두번째 숫자: 245\n",
      "세번째 숫자: 12\n",
      "가장 큰 수는 245 입니다.\n"
     ]
    }
   ],
   "source": [
    "# 124\n",
    "# 사용자로부2터 세 개의 숫자를 입력 받은 후 가장 큰 숫자를 출력하라.\n",
    "\n",
    "user1 = input(\"첫번째 숫자: \")\n",
    "user2 = input(\"두번째 숫자: \")\n",
    "user3 = input(\"세번째 숫자: \")\n",
    "\n",
    "user1 = int(user1)\n",
    "user2 = int(user2)\n",
    "user3 = int(user3)\n",
    "\n",
    "num = [user1,user2,user3]\n",
    "print(\"가장 큰 수는\",max(num),\"입니다.\")"
   ]
  },
  {
   "cell_type": "code",
   "execution_count": 23,
   "metadata": {},
   "outputs": [
    {
     "name": "stdout",
     "output_type": "stream",
     "text": [
      "첫번째 숫자: 34\n",
      "두번째 숫자: 23\n",
      "세번째 숫자: 452\n",
      "가장 큰 수는 452\n"
     ]
    }
   ],
   "source": [
    "# 124-1 (If 이용)\n",
    "user1 = int(input(\"첫번째 숫자: \"))\n",
    "user2 = int(input(\"두번째 숫자: \"))\n",
    "user3 = int(input(\"세번째 숫자: \"))\n",
    "\n",
    "\n",
    "if user1>user2 and user1>user3 :\n",
    "    print(\"가장 큰 수는\" ,user1)\n",
    "elif user2>user1 and user2>user3 :\n",
    "    print(\"가장 큰 수는\" ,user2)\n",
    "else :\n",
    "    print(\"가장 큰 수는\" ,user3)"
   ]
  },
  {
   "cell_type": "code",
   "execution_count": 30,
   "metadata": {},
   "outputs": [
    {
     "name": "stdout",
     "output_type": "stream",
     "text": [
      "휴대전화 번호 입력 :016-342-4534\n",
      "016\n",
      "당신은 KT 사용자 입니다.\n"
     ]
    }
   ],
   "source": [
    "#125\n",
    "#휴대폰 번호 앞자리에 따라 통신사는 아래와 같이 구분된다. 사용자로부터 휴대전화 번호를 입력 받고, 통신사를 출력하는 프로그램을 작성하라.\n",
    "#번호 \t통신사\n",
    "#011 \tSKT\n",
    "#016 \tKT\n",
    "#019 \tLGU\n",
    "#010 \t알수없음\n",
    "\n",
    "user = input(\"휴대전화 번호 입력 :\")\n",
    "phone = user[:3]        #슬라이싱이라 문자의 숫자가 아닌 사이사이의 숫자를 나타내야함!\n",
    "\n",
    "print(phone)\n",
    "if phone == \"011\":\n",
    "    print(\"당신은 {} 사용자 입니다.\")\n",
    "elif phone == \"016\":\n",
    "    print(\"당신은 KT 사용자 입니다.\")\n",
    "elif phone == \"019\":\n",
    "    print(\"당신은 LGU 사용자 입니다.\")\n",
    "else :\n",
    "    print(\"당신은 알수없습니다.\")"
   ]
  },
  {
   "cell_type": "markdown",
   "metadata": {},
   "source": [
    "## ~~125 질문~~ -- 해결 ^__^\n",
    "\n",
    "number = {\"011\":\"SKT\",\"016\":\"KT\",\"019\":\"LGU\",\"010\":\"알수없음\"}  이라는 딕셔너리를 만들고\n",
    "\n",
    "if phone == 011: 일때,   \n",
    "  \n",
    "   print(**011이라는 키를 가진 값을 가지고 와서 출력할 방법은 없을까요?**)"
   ]
  },
  {
   "cell_type": "code",
   "execution_count": 53,
   "metadata": {},
   "outputs": [
    {
     "name": "stdout",
     "output_type": "stream",
     "text": [
      "휴대전화 번호 입력 :011-293\n",
      "당신은 SKT 사용자 입니다.\n"
     ]
    }
   ],
   "source": [
    "number = {\"011\":\"SKT\",\"016\":\"KT\",\"019\":\"LGU\",\"010\":\"알수없음\"}\n",
    "\n",
    "user = input(\"휴대전화 번호 입력 :\")\n",
    "phone = user[:3]\n",
    "\n",
    "if phone == \"011\":\n",
    "    print(f\"당신은 {number['011']} 사용자 입니다.\")"
   ]
  },
  {
   "cell_type": "code",
   "execution_count": 32,
   "metadata": {},
   "outputs": [
    {
     "name": "stdout",
     "output_type": "stream",
     "text": [
      "우편번호 5자리를 입력하세요:01234\n",
      "강북구\n"
     ]
    }
   ],
   "source": [
    "# 126\n",
    "# 우편번호는 5자리로 구성되는데, 앞의 세자리는 구를 나타낸다. \n",
    "# 예를들어, 강북구의 경우 010, 011, 012 세 자리로 시작한다. \n",
    "\n",
    "user = input(\"우편번호 5자리를 입력하세요:\")\n",
    "place = user[:3]\n",
    "\n",
    "if place in [\"010\",\"011\",\"012\"]:\n",
    "    print(\"강북구\")\n",
    "elif place in [\"013\",\"014\",\"015\"]:\n",
    "    print(\"도봉구\")\n",
    "else:\n",
    "    print(\"노원구\")"
   ]
  },
  {
   "cell_type": "code",
   "execution_count": 40,
   "metadata": {},
   "outputs": [
    {
     "name": "stdout",
     "output_type": "stream",
     "text": [
      "주민등록번호 :1231432-34231\n",
      "남자\n"
     ]
    }
   ],
   "source": [
    "#127\n",
    "#주민등록번호 뒷 자리 7자리 중 첫째 자리는 성별을 나타내는데, 1, 3은 남자 2, 4는 여자를 의미한다. \n",
    "#사용자로부터 13자리의 주민등록번호를 입력 받은 후 성별 (남자, 여자)를 출력하는 프로그램을 작성하라.\n",
    "\n",
    "user = input(\"주민등록번호 :\")\n",
    "sex = user.split(\"-\")[1][0]\n",
    "\n",
    "if sex == 1 or 3:\n",
    "    print(\"남자\")\n",
    "else:\n",
    "    print(\"여자\")"
   ]
  },
  {
   "cell_type": "code",
   "execution_count": 41,
   "metadata": {},
   "outputs": [
    {
     "name": "stdout",
     "output_type": "stream",
     "text": [
      "주민등록번호 :13124-103214241\n",
      "서울입니다.\n"
     ]
    }
   ],
   "source": [
    "#128\n",
    "#주민등록번호의 뒷 자리 7자리 중 두번째와 세번째는 지역코드를 의미한다. \n",
    "#주민 등록 번호를 입력 받은 후 출생지가 서울인지 아닌지 판단하는 코드를 작성하라\n",
    "\n",
    "user = input(\"주민등록번호 :\")\n",
    "home = user.split(\"-\")[1][1:3]\n",
    "\n",
    "if 0<= int(home) <=8 :\n",
    "    print(\"서울입니다.\")\n",
    "else :\n",
    "    print(\"서울이 아닙니다.\")"
   ]
  },
  {
   "cell_type": "code",
   "execution_count": 52,
   "metadata": {},
   "outputs": [
    {
     "name": "stdout",
     "output_type": "stream",
     "text": [
      "주민등록번호 :9876543-98765434\n",
      "유효하지 않은 주민등록번호입니다.\n"
     ]
    }
   ],
   "source": [
    "129\n",
    "\n",
    "#주민등록번호는 13자리로 구성되는데 마지막 자리수는 주민등록번호의 유효성을 체크하는데 사용된다. \n",
    "#먼저 앞에서부터 12자리의 숫자에 2, 3, 4, 5, 6, 7, 8, 9, 2, 3, 4, 5를 차례로 곱한 뒤 그 값을 전부 더한다. \n",
    "#연산 결과 값을 11로 나누면 나머지가 나오는데 11에서 나머지를 뺀 값이 주민등록번호의 마지막 번호가 된다.\n",
    "\n",
    "user = input(\"주민등록번호 :\")\n",
    "front, back=  user.split(\"-\")\n",
    "valid = back[-2:]\n",
    "#front = int(front)\n",
    "#back= int(back)\n",
    "\n",
    "\n",
    "add = int(front[0])*2 + int(front[1])*3 + int(front[2])*4+ int(front[3])*5+ int(front[4])*6+\\\n",
    "int(front[5])*7 + \\\n",
    "int(back[0])*8+int(back[1])*9+int(back[2])*2+int(back[3])*3+int(back[4])*4+int(back[5])*5\n",
    "\n",
    "remain = 11-(add%11)\n",
    "\n",
    "if remain == valid:\n",
    "    print(\"유효한 주민등록번호입니다.\")\n",
    "else :\n",
    "    print(\"유효하지 않은 주민등록번호입니다.\")"
   ]
  },
  {
   "cell_type": "code",
   "execution_count": 56,
   "metadata": {},
   "outputs": [
    {
     "name": "stdout",
     "output_type": "stream",
     "text": [
      "상승장\n"
     ]
    }
   ],
   "source": [
    "#130\n",
    "#아래 코드는 비트코인의 가격 정보를 딕셔너리로 가져오는 코드이다.\n",
    "\n",
    "#btc 딕셔너리 안에는 시가, 종가, 최고가, 최저가 등이 저장되어 있다. \n",
    "#최고가와 최저가의 차이를 변동폭으로 정의할 때 (시가 + 변동폭)이 최고가 보다 높을 경우 \"상승장\", 그렇지 않은 경우 \"하락장\" 문자열을 출력하라.\n",
    "\n",
    "import requests\n",
    "btc = requests.get(\"https://api.bithumb.com/public/ticker/\").json()['data']\n",
    "\n",
    "시가 = int(btc['opening_price'])\n",
    "최고가 = int(btc['max_price'])\n",
    "최저가 = int(btc['min_price'])\n",
    "변동폭 = 최고가 - 최저가\n",
    "\n",
    "if (시가+변동폭) > 최고가 :\n",
    "    print(\"상승장\")\n",
    "else :\n",
    "    print(\"하락장\")"
   ]
  },
  {
   "cell_type": "markdown",
   "metadata": {},
   "source": [
    "- 확실히 코드를 구성하는 길이도 길어지고, 내가 생각해서 구현해야하는 문제가 많아 시간이 많이 소요되었다.  \n",
    "- 같은 결과이지만 여러가지로 만들어낼 수 있는 점은 흥미로웠다. 더 길고 더 다양한 코드를 빠른 시간 내에 만들 수 있도록 하고 싶다."
   ]
  }
 ],
 "metadata": {
  "kernelspec": {
   "display_name": "Python 3",
   "language": "python",
   "name": "python3"
  },
  "language_info": {
   "codemirror_mode": {
    "name": "ipython",
    "version": 3
   },
   "file_extension": ".py",
   "mimetype": "text/x-python",
   "name": "python",
   "nbconvert_exporter": "python",
   "pygments_lexer": "ipython3",
   "version": "3.7.9"
  }
 },
 "nbformat": 4,
 "nbformat_minor": 4
}
