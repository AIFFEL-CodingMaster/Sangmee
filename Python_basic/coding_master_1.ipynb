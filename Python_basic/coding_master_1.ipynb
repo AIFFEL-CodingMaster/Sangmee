{
 "cells": [
  {
   "cell_type": "markdown",
   "metadata": {},
   "source": [
    "# 변수"
   ]
  },
  {
   "cell_type": "code",
   "execution_count": 5,
   "metadata": {},
   "outputs": [],
   "source": [
    "name = \"이상미\"\n",
    "eng_name = \"Sangmee Lee\"\n",
    "phone_number = \"010-1234-5678\"\n"
   ]
  },
  {
   "cell_type": "code",
   "execution_count": 6,
   "metadata": {},
   "outputs": [
    {
     "name": "stdout",
     "output_type": "stream",
     "text": [
      "이상미 \n",
      " Sangmee Lee \n",
      " 010-1234-5678\n",
      "\n",
      "이상미 \t Sangmee Lee \t 010-1234-5678\n"
     ]
    }
   ],
   "source": [
    "#출력은 print 이용\n",
    "\n",
    "#\\n은 한 줄 띄우기\n",
    "print (name, '\\n',eng_name, '\\n',phone_number)\n",
    "\n",
    "#한 줄 띄우고 싶을 땐 빈 print 입력\n",
    "print()\n",
    "\n",
    "#\\t는 tap키를 한 번 누른 것\n",
    "print(name,'\\t',eng_name,'\\t', phone_number)"
   ]
  },
  {
   "cell_type": "markdown",
   "metadata": {},
   "source": [
    "# 숫자"
   ]
  },
  {
   "cell_type": "code",
   "execution_count": 9,
   "metadata": {},
   "outputs": [
    {
     "name": "stdout",
     "output_type": "stream",
     "text": [
      "number_1의 타입 <class 'int'>\n",
      "number_2의 타입 <class 'float'>\n"
     ]
    }
   ],
   "source": [
    "# int 는 정수\n",
    "# float 는 실수 \n",
    "number_1=1\n",
    "number_2 =1.0\n",
    "\n",
    "print(\"number_1의 타입\", type(number_1))\n",
    "print(\"number_2의 타입\", type(number_2))"
   ]
  },
  {
   "cell_type": "markdown",
   "metadata": {},
   "source": [
    "# 문자"
   ]
  },
  {
   "cell_type": "code",
   "execution_count": 11,
   "metadata": {},
   "outputs": [
    {
     "name": "stdout",
     "output_type": "stream",
     "text": [
      "1\n",
      "1\n",
      "string_1의 타입 <class 'str'>\n"
     ]
    }
   ],
   "source": [
    "#str 문자형\n",
    "string_1 = \"가나다라마바사\"\n",
    "string_2 = 'abcdefg'\n",
    "string_3 = \"가나ab다라cd\"\n",
    "string_4 = '1@#ed가나'\n",
    "\n",
    "#따옴표 안에 있으면 다 문자가 된다. 1도 따옴표 안에 있으면 그냥 문자 처리 됨\n",
    "\n",
    "print(1)\n",
    "print('1') #같아 보이지만 타입이 다르다\n",
    "\n",
    "print(\"string_1의 타입\",type(string_1))\n",
    "print(\"string_2의 타입\",type(string_2)) #다 같다"
   ]
  },
  {
   "cell_type": "code",
   "execution_count": null,
   "metadata": {},
   "outputs": [],
   "source": [
    "#한줄 출력\n",
    "print('abcd', end = \"\")\n",
    "print('efgh')    # 붙어서 나온다!!\n",
    "\n",
    "#한 칸 띄우고 출력\n",
    "print(\"abcd\", end=\" \")\n",
    "print(\"efgh\", end=\" \") #따옴표 안에 한칸 띄우면 띄워서 print 된다\n",
    "print(\"ijkl\")"
   ]
  },
  {
   "cell_type": "markdown",
   "metadata": {},
   "source": [
    "# 반올림"
   ]
  },
  {
   "cell_type": "code",
   "execution_count": 15,
   "metadata": {},
   "outputs": [
    {
     "name": "stdout",
     "output_type": "stream",
     "text": [
      "1.23\n",
      "1.235\n",
      "3.14\n"
     ]
    }
   ],
   "source": [
    "#2자리까지 출력 - 3번째 자리에서 반올림   \n",
    "print(\"%.2f\" %1.23456789)\n",
    "#3자리까지 출력 - 4번째 자리에서 반올림   \n",
    "print(\"%.3f\" %1.23456789)\n",
    "\n",
    "\n",
    "#변수명으로 넣기\n",
    "pi = 3.141592\n",
    "print(\"%.2f\" %pi)     #2자리까지 출력 , 변수명 "
   ]
  },
  {
   "cell_type": "code",
   "execution_count": 16,
   "metadata": {},
   "outputs": [
    {
     "name": "stdout",
     "output_type": "stream",
     "text": [
      "나는 10시에 집에 간다\n",
      "나는 10시에 집에 간다\n",
      "나는 10시에 집에 간다\n"
     ]
    }
   ],
   "source": [
    "when = 10\n",
    "where = \"집\"\n",
    "\n",
    "print(\"나는 %d시에 %s에 간다\" %(when, where)) # %d : digits %s:string     #비추 !\n",
    "print(\"나는 {}시에 {}에 간다\" . format(when,where)) # {}안에 format(변수)를 출력\n",
    "\n",
    "print(f\"나는 {when}시에 {where}에 간다\") # 변수 출력 (f는 문법. 외우기)    ##!!!강추!!!##"
   ]
  },
  {
   "cell_type": "code",
   "execution_count": 2,
   "metadata": {},
   "outputs": [
    {
     "name": "stdout",
     "output_type": "stream",
     "text": [
      "형준(이)는 home!에 2시까지 갈 것이다.\n"
     ]
    }
   ],
   "source": [
    "who = \"형준\"\n",
    "where = 'home!'\n",
    "when = 2\n",
    "\n",
    "print(f\"{who}(이)는 {where}에 {when}시까지 갈 것이다.\")"
   ]
  },
  {
   "cell_type": "code",
   "execution_count": 3,
   "metadata": {},
   "outputs": [],
   "source": [
    "#산술연산자"
   ]
  },
  {
   "cell_type": "code",
   "execution_count": 4,
   "metadata": {},
   "outputs": [
    {
     "name": "stdout",
     "output_type": "stream",
     "text": [
      "12\n",
      "8\n",
      "20\n",
      "5.0\n"
     ]
    },
    {
     "data": {
      "text/plain": [
       "float"
      ]
     },
     "execution_count": 4,
     "metadata": {},
     "output_type": "execute_result"
    }
   ],
   "source": [
    "#더하기 +\n",
    "#빼기 -\n",
    "#곱하기 *\n",
    "#나누기 /\n",
    "\n",
    "a = 10\n",
    "b= 2\n",
    "\n",
    "print(a+b)\n",
    "print(a-b)\n",
    "print(a*b)\n",
    "print(a/b)    #int/int 인데 왜 float 가 될까?\n",
    "type (a/b)    #나누기 이용하면 나누어 떨어지더라도 float로 바뀐다\n",
    "\n"
   ]
  },
  {
   "cell_type": "code",
   "execution_count": 5,
   "metadata": {},
   "outputs": [
    {
     "name": "stdout",
     "output_type": "stream",
     "text": [
      "0\n"
     ]
    }
   ],
   "source": [
    "# % : 나머지를 구하는 것\n",
    "# a를 b로 나누었을 때 나머지\n",
    "print (a % b) \n",
    "\n",
    "#if a % 2 == 0: #짝수\n",
    "#if a % 2 != 0: #홀수"
   ]
  },
  {
   "cell_type": "code",
   "execution_count": 6,
   "metadata": {},
   "outputs": [],
   "source": [
    "# // : 몫을 구하는 것"
   ]
  },
  {
   "cell_type": "code",
   "execution_count": 8,
   "metadata": {},
   "outputs": [
    {
     "name": "stdout",
     "output_type": "stream",
     "text": [
      "<class 'pandas.core.frame.DataFrame'>\n",
      "temp 함수 사용\n"
     ]
    }
   ],
   "source": [
    "import pandas as pd\n",
    "\n",
    "data_frame = pd.DataFrame()\n",
    "print(type(data_frame))\n",
    "\n",
    "def temp() :\n",
    "    print(\"temp 함수 사용\")\n",
    "temp()"
   ]
  },
  {
   "cell_type": "code",
   "execution_count": 11,
   "metadata": {},
   "outputs": [
    {
     "name": "stdout",
     "output_type": "stream",
     "text": [
      "3\n",
      "3 단\n",
      "3 X 1 = 3\n",
      "3 X 2 = 6\n",
      "3 X 3 = 9\n",
      "3 X 4 = 12\n",
      "3 X 5 = 15\n",
      "3 X 6 = 18\n",
      "3 X 7 = 21\n",
      "3 X 8 = 24\n",
      "3 X 9 = 27\n"
     ]
    }
   ],
   "source": [
    "#구구단 \n",
    "num = int(input())\n",
    "#input은 사용자에게 변수를 입력 받는 것\n",
    "print(f\"{num} 단\")\n",
    "print(f\"{num} X 1 = {num*1}\")\n",
    "print(f\"{num} X 2 = {num*2}\")\n",
    "print(f\"{num} X 3 = {num*3}\")\n",
    "print(f\"{num} X 4 = {num*4}\")\n",
    "print(f\"{num} X 5 = {num*5}\")\n",
    "print(f\"{num} X 6 = {num*6}\")\n",
    "print(f\"{num} X 7 = {num*7}\")\n",
    "print(f\"{num} X 8 = {num*8}\")\n",
    "print(f\"{num} X 9 = {num*9}\")"
   ]
  },
  {
   "cell_type": "markdown",
   "metadata": {},
   "source": [
    "\n",
    "# 리스트 "
   ]
  },
  {
   "cell_type": "code",
   "execution_count": 12,
   "metadata": {},
   "outputs": [
    {
     "name": "stdout",
     "output_type": "stream",
     "text": [
      "[1, '이', 3]\n"
     ]
    }
   ],
   "source": [
    "#list\n",
    "#set\n",
    "#tuple - \n",
    "#bool - 참 거짓을 나타내는 DataType \n",
    "\n",
    "\n",
    "#자유롭게 담는 list\n",
    "list_a = [1,'이',3 ]\n",
    "print(list_a)\n",
    "#dir - list 의 기능을 확인 해볼 수 있다."
   ]
  },
  {
   "cell_type": "markdown",
   "metadata": {},
   "source": [
    "# 인덱스"
   ]
  },
  {
   "cell_type": "code",
   "execution_count": 13,
   "metadata": {},
   "outputs": [
    {
     "name": "stdout",
     "output_type": "stream",
     "text": [
      "{1, 2, 3, 4}\n"
     ]
    }
   ],
   "source": [
    "# 인덱스 - 파이썬에서 위치를 나타내는 숫자 \n",
    "    #  - 1부터 시작이 아니라 0 부터 시작이다.\n",
    "#중복 없이 담는 set\n",
    "set_a = {1,1,2,3,3,4}\n",
    "print(set_a)\n"
   ]
  },
  {
   "cell_type": "markdown",
   "metadata": {},
   "source": [
    "# 비교연산자"
   ]
  },
  {
   "cell_type": "code",
   "execution_count": 14,
   "metadata": {},
   "outputs": [],
   "source": [
    "# == 같은지 비교\n",
    "# != 다른지 비교 ( 다릅니까?)\n",
    "# >= 부등호\n",
    "\n",
    "#숫자만 비교 X!!!!\n",
    "# 문자도, 다른 DataType도 비교 가능!"
   ]
  },
  {
   "cell_type": "markdown",
   "metadata": {},
   "source": [
    "# is 비교  \n",
    " a is b => a 가 b 이면 True/ 아니면 False"
   ]
  },
  {
   "cell_type": "code",
   "execution_count": 21,
   "metadata": {},
   "outputs": [
    {
     "name": "stdout",
     "output_type": "stream",
     "text": [
      "140405322489120\n",
      "94626333171552\n",
      "140404652246000\n",
      "94626333171552\n"
     ]
    }
   ],
   "source": [
    "\n",
    "# 정수일 경우 0 ~ 256까지는 주소값이 정해져있어서 각각 다른 변수에 숫자를 할당해도 is 비교 하였을때 True\n",
    "\n",
    "a= [1,2,3]\n",
    "b = 100\n",
    "c = 100.0\n",
    "d=b #(d는 b를 복사)\n",
    "# 각 변수의 메모리 주소값을 찾는 법 :id()    - 할당 할 때마다 주소값은 달라진다. \n",
    "print(id(a))\n",
    "print(id(b))\n",
    "print(id(c))\n",
    "print(id(d))    #복사 했으니 b와 같을 것!"
   ]
  },
  {
   "cell_type": "code",
   "execution_count": 25,
   "metadata": {},
   "outputs": [
    {
     "name": "stdout",
     "output_type": "stream",
     "text": [
      "False\n",
      "False\n",
      "True\n",
      "True\n"
     ]
    }
   ],
   "source": [
    "print (a is b)\n",
    "print (b is c)    # 주소 값은 다르다\n",
    "print (b==c)      # 하지만 값은 같다 \n",
    "print (b is d)   #복사 해서 주소가 같으니 True"
   ]
  },
  {
   "cell_type": "markdown",
   "metadata": {},
   "source": [
    "# 논리연산자  \n",
    "and  \n",
    "or  \n",
    "not"
   ]
  },
  {
   "cell_type": "markdown",
   "metadata": {},
   "source": [
    "# 조건문  \n",
    "if : 만약 ~     \n",
    "elif : if가 아니라 elif 라면~  \n",
    "else : 앞이 다 아니라면 else 실행"
   ]
  },
  {
   "cell_type": "code",
   "execution_count": 39,
   "metadata": {},
   "outputs": [
    {
     "name": "stdout",
     "output_type": "stream",
     "text": [
      "list_3 :  [1,2,3]\n"
     ]
    }
   ],
   "source": [
    "# if 마지막에는 : 표시\n",
    "# 그 다음줄은 앞에 4칸 띄우기 (Indentation)\n",
    "\n",
    "list_3 = \"[1,2,3]\"\n",
    "if len(list_3) < 10 : #len() 길이 측정 함수, 리스트 같은 경우는 원소의 개수를 구하는 것과 같다\n",
    "    print(\"list_3 : \", list_3)"
   ]
  },
  {
   "cell_type": "markdown",
   "metadata": {},
   "source": [
    "# 반복문  \n",
    "while : 조건을 만족하면 반복문 실행  \n",
    "for : "
   ]
  },
  {
   "cell_type": "code",
   "execution_count": 41,
   "metadata": {},
   "outputs": [
    {
     "name": "stdout",
     "output_type": "stream",
     "text": [
      "n: 10\n",
      "n: 9\n",
      "n: 8\n",
      "n: 7\n",
      "n: 6\n"
     ]
    }
   ],
   "source": [
    "# 끝에 : 붙이기\n",
    "# 앞에 4칸 띄우기\n",
    "\n",
    "list_1 = [1,2,3,4,5,6,7,8,9]\n",
    "\n",
    "\n",
    "# 무한 루프 \n",
    "# while문 강제로 끝내는 법 - break\n",
    "# 조건문을 사용하여 조건을 만족하면 강제로 끝내기 \n",
    "n= 10\n",
    "while n >0 :\n",
    "    print(\"n:\" ,n)\n",
    "    n= n-1\n",
    "    # n이 5가 되는 순간 반복문 종료\n",
    "    if n == 5 :\n",
    "        break"
   ]
  },
  {
   "cell_type": "code",
   "execution_count": null,
   "metadata": {},
   "outputs": [],
   "source": []
  }
 ],
 "metadata": {
  "kernelspec": {
   "display_name": "aiffel",
   "language": "python",
   "name": "aiffel"
  }
 },
 "nbformat": 4,
 "nbformat_minor": 4
}
