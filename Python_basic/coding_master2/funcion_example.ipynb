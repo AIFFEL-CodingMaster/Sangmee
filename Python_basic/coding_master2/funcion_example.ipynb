{
 "cells": [
  {
   "cell_type": "code",
   "execution_count": 1,
   "metadata": {},
   "outputs": [],
   "source": [
    "# input 과 output 둘 다 있는 경우 \n",
    "def 함수(input):\n",
    "    return output\n",
    "\n",
    "# output만 있는 경우\n",
    "def 함수():\n",
    "    return output\n",
    "\n",
    "# input만 있는 경우\n",
    "\n",
    "# input output 둘 다 없는 경우\n",
    "def 함수():\n",
    "    print(\"실행\")"
   ]
  },
  {
   "cell_type": "code",
   "execution_count": 2,
   "metadata": {},
   "outputs": [
    {
     "name": "stdout",
     "output_type": "stream",
     "text": [
      "25000\n",
      "15000\n"
     ]
    }
   ],
   "source": [
    "# 1) input과 output이 있는 함수\n",
    "\n",
    "icecream_price=5000     \n",
    "candy_price=3000\n",
    "\n",
    "def price_all(price):   #input 받을 것\n",
    "    amount = price * 5  #input*5를 amount라는 변수에 넣는다.\n",
    "    return amount       #출력은 amount에 들어있는 값\n",
    "\n",
    "payment1 = price_all(icecream_price)   #input 1\n",
    "payment2 = price_all(candy_price)      #input 2\n",
    "\n",
    "print(payment1)\n",
    "print(payment2)"
   ]
  },
  {
   "cell_type": "code",
   "execution_count": 6,
   "metadata": {},
   "outputs": [
    {
     "data": {
      "text/plain": [
       "16"
      ]
     },
     "execution_count": 6,
     "metadata": {},
     "output_type": "execute_result"
    }
   ],
   "source": [
    "# 2) output만 있는 함수\n",
    "\n",
    "def all():\n",
    "    num1 = 6\n",
    "    num2 = 3\n",
    "    num3 = 7\n",
    "    return num1+num2+num3   #output 있음\n",
    "\n",
    "all()    #input이 없고 함수 안에서 불러왔으니, ()만 있다.\n",
    "    "
   ]
  },
  {
   "cell_type": "code",
   "execution_count": 4,
   "metadata": {},
   "outputs": [
    {
     "name": "stdout",
     "output_type": "stream",
     "text": [
      "대한민국\n"
     ]
    }
   ],
   "source": [
    "# 3) input output 둘 다 없는 함수\n",
    "\n",
    "def home(): \n",
    "    print(\"대한민국\")\n",
    "\n",
    "home() #input이 없고 함수 안에서 불러왔으니, ()만 있다."
   ]
  },
  {
   "cell_type": "code",
   "execution_count": null,
   "metadata": {},
   "outputs": [],
   "source": []
  }
 ],
 "metadata": {
  "kernelspec": {
   "display_name": "aiffel",
   "language": "python",
   "name": "aiffel"
  },
  "language_info": {
   "codemirror_mode": {
    "name": "ipython",
    "version": 3
   },
   "file_extension": ".py",
   "mimetype": "text/x-python",
   "name": "python",
   "nbconvert_exporter": "python",
   "pygments_lexer": "ipython3",
   "version": "3.7.9"
  }
 },
 "nbformat": 4,
 "nbformat_minor": 4
}
