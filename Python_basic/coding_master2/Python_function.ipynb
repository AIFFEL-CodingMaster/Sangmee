{
 "cells": [
  {
   "cell_type": "markdown",
   "metadata": {},
   "source": [
    "# 함수 _ fucntion  \n",
    "함수 안에 들어가는 input을 argument라고하고 우리말로는 \"인자\"라고 함  \n",
    "함수가 가지는 return값이 변수로 들어감.\n",
    "변수 = 함수(input)  \n",
    "+ def 와 return  "
   ]
  },
  {
   "cell_type": "code",
   "execution_count": 1,
   "metadata": {},
   "outputs": [],
   "source": [
    "# input 과 output 둘 다 있는 경우 \n",
    "def 함수(input):\n",
    "    return output\n",
    "\n",
    "# output만 있는 경우\n",
    "def 함수():\n",
    "    return output\n",
    "\n",
    "# input만 있는 경우\n",
    "\n",
    "# input output 둘 다 없는 경우\n",
    "def 함수():\n",
    "    print(\"실행\")"
   ]
  },
  {
   "cell_type": "code",
   "execution_count": 5,
   "metadata": {},
   "outputs": [
    {
     "name": "stdout",
     "output_type": "stream",
     "text": [
      "1\n",
      "<class 'int'>\n",
      "1\n",
      "<class 'str'>\n",
      "5\n",
      "<class 'str'>\n"
     ]
    }
   ],
   "source": [
    "# input과 output이 있는 함수\n",
    "num = 1\n",
    "num5 = 5\n",
    "#함수 선언 / 함수명/ 인자값 :\n",
    "def int_to_str(num):\n",
    "    string_num=str(num)   #input으로 들어온 인자를 str으로 바꿔서 string_num의 변수에 넣었다.\n",
    "    return string_num   #output\n",
    "\n",
    "string_number = int_to_str(num)  \n",
    "string_number2 = int_to_str(num5)\n",
    "\n",
    "print(num)      #처음 선언 전 1 은 숫자\n",
    "print(type(num))\n",
    "\n",
    "print(string_number)  #함수에 넣은 num은 str으로 바뀌는 함수가 적용되었다.\n",
    "print(type(string_number))\n",
    "\n",
    "print(string_number2)\n",
    "print(type(string_number2))"
   ]
  },
  {
   "cell_type": "code",
   "execution_count": 7,
   "metadata": {},
   "outputs": [
    {
     "data": {
      "text/plain": [
       "1.5464927864435898"
      ]
     },
     "execution_count": 7,
     "metadata": {},
     "output_type": "execute_result"
    }
   ],
   "source": [
    "# output만 있는 함수\n",
    "import random   #랜덤 값을 나타내고 싶어서 random 라이브러리 불러왔다.\n",
    "\n",
    "def random_float():  #input이 없다!\n",
    "    randint_1 = random.randint(0,999999)   #0-999999 중 숫자를 랜덤으로 뽑아\n",
    "    #랜덤이라는 라이브러리 안에 랜드인트라는 함수가 있는데 랜덤으로 정수 뽑아준다.\n",
    "    randint_2 = random.randint(0,999999)\n",
    "    return randint_1 / randint_2   #output으로 나오는 결과\n",
    "\n",
    "random_float()   #input이 없고 함수 안에서 불러왔으니, ()만 있다."
   ]
  },
  {
   "cell_type": "code",
   "execution_count": 11,
   "metadata": {},
   "outputs": [
    {
     "name": "stdout",
     "output_type": "stream",
     "text": [
      "이상미\n",
      "이상미\n",
      "None\n"
     ]
    }
   ],
   "source": [
    "# input output 둘 다 없는 함수\n",
    "def print_my_name():\n",
    "    print(\"이상미\")\n",
    "print_my_name()\n",
    "print(print_my_name())"
   ]
  },
  {
   "cell_type": "code",
   "execution_count": 13,
   "metadata": {},
   "outputs": [
    {
     "name": "stdout",
     "output_type": "stream",
     "text": [
      "이상미\n",
      "None\n"
     ]
    }
   ],
   "source": [
    "#return 이 없어서 None 이 나온다.\n",
    "name = print_my_name()   #여기서는 이상미라고 출력된다.\n",
    "print(name)\n",
    "# print-myname에 return 이 없어서 Name이라는 변수에 none이 나온다. "
   ]
  },
  {
   "cell_type": "markdown",
   "metadata": {},
   "source": [
    "# 함수의 세계 - 비함수의 세계\n",
    "함수의 인자값과 함수안에서 처음 생기는 변수는 함수 밖의 세계에 전혀 영향을 미치지 않음\n",
    "\n",
    "    함수 안에 생긴 변수를 '지역변수'_local\n",
    "    함수 밖에 변수를 '전역변수'_global\n",
    "전역변수는 지역변수에 영향을 미칠 수 있음"
   ]
  },
  {
   "cell_type": "code",
   "execution_count": 17,
   "metadata": {},
   "outputs": [
    {
     "name": "stdout",
     "output_type": "stream",
     "text": [
      "['난', '전', '역', '변', '수']\n",
      "['난', '전', '역', '변', '수', '난', '지', '역', '변', '수']\n"
     ]
    }
   ],
   "source": [
    "# 전역변수 \n",
    "난전역변수 = [\"난\",\"전\",\"역\",\"변\",\"수\"]\n",
    "\n",
    "def check():\n",
    "    # 지역변수\n",
    "    난지역변수 = [\"난\",\"지\",\"역\",\"변\",\"수\"]\n",
    "    난두개더한거 = 난전역변수 + 난지역변수    #함수안에서는 전역도 쓸수 있음\n",
    "    # 두 개 더한거 return할게요\n",
    "    return 난두개더한거\n",
    "check = check()    #함수 call해서 return값만 나오고 변수에 넣어줘야함.\n",
    "print(난전역변수)\n",
    "print(check)"
   ]
  },
  {
   "cell_type": "code",
   "execution_count": 19,
   "metadata": {},
   "outputs": [
    {
     "ename": "NameError",
     "evalue": "name '난지역변수' is not defined",
     "output_type": "error",
     "traceback": [
      "\u001b[0;31m---------------------------------------------------------------------------\u001b[0m",
      "\u001b[0;31mNameError\u001b[0m                                 Traceback (most recent call last)",
      "\u001b[0;32m<ipython-input-19-4d49509a0013>\u001b[0m in \u001b[0;36m<module>\u001b[0;34m\u001b[0m\n\u001b[1;32m      1\u001b[0m \u001b[0;31m# 확인- 지역변수\u001b[0m\u001b[0;34m\u001b[0m\u001b[0;34m\u001b[0m\u001b[0;34m\u001b[0m\u001b[0m\n\u001b[1;32m      2\u001b[0m \u001b[0;31m# 정의되지 않았다고 뜹니다 -> 지역변수는 함수안에서만 존재\u001b[0m\u001b[0;34m\u001b[0m\u001b[0;34m\u001b[0m\u001b[0;34m\u001b[0m\u001b[0m\n\u001b[0;32m----> 3\u001b[0;31m \u001b[0mprint\u001b[0m\u001b[0;34m(\u001b[0m\u001b[0m난지역변수\u001b[0m\u001b[0;34m)\u001b[0m\u001b[0;34m\u001b[0m\u001b[0;34m\u001b[0m\u001b[0m\n\u001b[0m",
      "\u001b[0;31mNameError\u001b[0m: name '난지역변수' is not defined"
     ]
    }
   ],
   "source": [
    "# 확인- 지역변수\n",
    "# 정의되지 않았다고 뜹니다 -> 지역변수는 함수안에서만 존재\n",
    "print(난지역변수)"
   ]
  },
  {
   "cell_type": "code",
   "execution_count": 20,
   "metadata": {},
   "outputs": [
    {
     "ename": "NameError",
     "evalue": "name '난두개더한거' is not defined",
     "output_type": "error",
     "traceback": [
      "\u001b[0;31m---------------------------------------------------------------------------\u001b[0m",
      "\u001b[0;31mNameError\u001b[0m                                 Traceback (most recent call last)",
      "\u001b[0;32m<ipython-input-20-048301540132>\u001b[0m in \u001b[0;36m<module>\u001b[0;34m\u001b[0m\n\u001b[1;32m      1\u001b[0m \u001b[0;31m# 난두개더한거 - 지역변수 입니다, 함수안에서 만들어졌기 때문에!!!\u001b[0m\u001b[0;34m\u001b[0m\u001b[0;34m\u001b[0m\u001b[0;34m\u001b[0m\u001b[0m\n\u001b[1;32m      2\u001b[0m \u001b[0;31m# 역시 정의되지 않았다고 뜹니다\u001b[0m\u001b[0;34m\u001b[0m\u001b[0;34m\u001b[0m\u001b[0;34m\u001b[0m\u001b[0m\n\u001b[0;32m----> 3\u001b[0;31m \u001b[0mprint\u001b[0m\u001b[0;34m(\u001b[0m\u001b[0m난두개더한거\u001b[0m\u001b[0;34m)\u001b[0m\u001b[0;34m\u001b[0m\u001b[0;34m\u001b[0m\u001b[0m\n\u001b[0m",
      "\u001b[0;31mNameError\u001b[0m: name '난두개더한거' is not defined"
     ]
    }
   ],
   "source": [
    "# 난두개더한거 - 지역변수 입니다, 함수안에서 만들어졌기 때문에!!!\n",
    "# 역시 정의되지 않았다고 뜹니다\n",
    "print(난두개더한거)"
   ]
  },
  {
   "cell_type": "markdown",
   "metadata": {},
   "source": [
    "#### 인자 여러개 넣어 줄수 있음\n",
    "#### default(넣어주지 않아도 알아서 넣는다) 값을 정해줄 수 있음"
   ]
  },
  {
   "cell_type": "code",
   "execution_count": 24,
   "metadata": {},
   "outputs": [
    {
     "name": "stdout",
     "output_type": "stream",
     "text": [
      "이상미 학생\n",
      "3\n"
     ]
    }
   ],
   "source": [
    "# 단어와 단어를 결합해주는 함수\n",
    "def merge_word(a, b):\n",
    "    word = a + b   #a,b 타입이 정해지지 않다! int, list, str ... 다 가능\n",
    "    return word\n",
    "\n",
    "word = merge_word(a=\"이상미 \",b= \"학생\")  #merga_word라는 함수를 call하고 word라는 변수에 넣는다.\n",
    "print(word)\n",
    "\n",
    "word = merge_word(1,2)\n",
    "print(word)"
   ]
  },
  {
   "cell_type": "code",
   "execution_count": 27,
   "metadata": {},
   "outputs": [
    {
     "name": "stdout",
     "output_type": "stream",
     "text": [
      "기본단어\n"
     ]
    }
   ],
   "source": [
    "# 어라? 난 문자만 되게 하고 싶은데?\n",
    "def merge_word(a = \"기본\", b=\"단어\"):   #default해주면 되겠지?\n",
    "    word = a + b\n",
    "    return word\n",
    "# 기본값이 정해져 있기 때문에 아무것도 넣지 않을 수 있음\n",
    "word = merge_word()\n",
    "print(word)"
   ]
  },
  {
   "cell_type": "code",
   "execution_count": 29,
   "metadata": {},
   "outputs": [
    {
     "name": "stdout",
     "output_type": "stream",
     "text": [
      "이상미 학생\n",
      "3\n"
     ]
    }
   ],
   "source": [
    "#NO!!!!!\n",
    "# default 값의 단어를 바꿀 수도 있음\n",
    "word = merge_word(\"이상미 \", \"학생\")\n",
    "print(word)\n",
    "\n",
    "# 그래도 바뀔 수 있어......\n",
    "word = merge_word(1,2)\n",
    "print(word)"
   ]
  },
  {
   "cell_type": "code",
   "execution_count": 33,
   "metadata": {},
   "outputs": [
    {
     "name": "stdout",
     "output_type": "stream",
     "text": [
      "기본단어\n"
     ]
    }
   ],
   "source": [
    "# 이렇게 만들어 줄 수 있다. - 조건문 만들기!!!!\n",
    "def merge_word(a = \"기본\", b=\"단어\"):\n",
    "    word = a + b\n",
    "    if type(word) != str:\n",
    "        raise TypeError(\"a와 b는 문자여야 합니다\")   #raise쓰면 에러 발생!\n",
    "    return word\n",
    "word = merge_word()\n",
    "print(word)"
   ]
  },
  {
   "cell_type": "code",
   "execution_count": 36,
   "metadata": {},
   "outputs": [
    {
     "name": "stdout",
     "output_type": "stream",
     "text": [
      "12\n"
     ]
    }
   ],
   "source": [
    "word = merge_word(\"1\",\"2\")   #문자이므로 합쳐져서 12로 출력된다.\n",
    "print(word)"
   ]
  },
  {
   "cell_type": "code",
   "execution_count": 35,
   "metadata": {},
   "outputs": [
    {
     "ename": "TypeError",
     "evalue": "a와 b는 문자여야 합니다",
     "output_type": "error",
     "traceback": [
      "\u001b[0;31m---------------------------------------------------------------------------\u001b[0m",
      "\u001b[0;31mTypeError\u001b[0m                                 Traceback (most recent call last)",
      "\u001b[0;32m<ipython-input-35-ee05a473bd1e>\u001b[0m in \u001b[0;36m<module>\u001b[0;34m\u001b[0m\n\u001b[0;32m----> 1\u001b[0;31m \u001b[0mword\u001b[0m \u001b[0;34m=\u001b[0m \u001b[0mmerge_word\u001b[0m\u001b[0;34m(\u001b[0m\u001b[0;36m1\u001b[0m\u001b[0;34m,\u001b[0m\u001b[0;36m2\u001b[0m\u001b[0;34m)\u001b[0m   \u001b[0;31m#조건으로 만들어준 Error 발생\u001b[0m\u001b[0;34m\u001b[0m\u001b[0;34m\u001b[0m\u001b[0m\n\u001b[0m\u001b[1;32m      2\u001b[0m \u001b[0mprint\u001b[0m\u001b[0;34m(\u001b[0m\u001b[0mword\u001b[0m\u001b[0;34m)\u001b[0m\u001b[0;34m\u001b[0m\u001b[0;34m\u001b[0m\u001b[0m\n",
      "\u001b[0;32m<ipython-input-33-562c6bc04feb>\u001b[0m in \u001b[0;36mmerge_word\u001b[0;34m(a, b)\u001b[0m\n\u001b[1;32m      3\u001b[0m     \u001b[0mword\u001b[0m \u001b[0;34m=\u001b[0m \u001b[0ma\u001b[0m \u001b[0;34m+\u001b[0m \u001b[0mb\u001b[0m\u001b[0;34m\u001b[0m\u001b[0;34m\u001b[0m\u001b[0m\n\u001b[1;32m      4\u001b[0m     \u001b[0;32mif\u001b[0m \u001b[0mtype\u001b[0m\u001b[0;34m(\u001b[0m\u001b[0mword\u001b[0m\u001b[0;34m)\u001b[0m \u001b[0;34m!=\u001b[0m \u001b[0mstr\u001b[0m\u001b[0;34m:\u001b[0m\u001b[0;34m\u001b[0m\u001b[0;34m\u001b[0m\u001b[0m\n\u001b[0;32m----> 5\u001b[0;31m         \u001b[0;32mraise\u001b[0m \u001b[0mTypeError\u001b[0m\u001b[0;34m(\u001b[0m\u001b[0;34m\"a와 b는 문자여야 합니다\"\u001b[0m\u001b[0;34m)\u001b[0m\u001b[0;34m\u001b[0m\u001b[0;34m\u001b[0m\u001b[0m\n\u001b[0m\u001b[1;32m      6\u001b[0m     \u001b[0;32mreturn\u001b[0m \u001b[0mword\u001b[0m\u001b[0;34m\u001b[0m\u001b[0;34m\u001b[0m\u001b[0m\n\u001b[1;32m      7\u001b[0m \u001b[0mword\u001b[0m \u001b[0;34m=\u001b[0m \u001b[0mmerge_word\u001b[0m\u001b[0;34m(\u001b[0m\u001b[0;34m)\u001b[0m\u001b[0;34m\u001b[0m\u001b[0;34m\u001b[0m\u001b[0m\n",
      "\u001b[0;31mTypeError\u001b[0m: a와 b는 문자여야 합니다"
     ]
    }
   ],
   "source": [
    "word = merge_word(1,2)   #조건으로 만들어준 Error 발생\n",
    "print(word)"
   ]
  },
  {
   "cell_type": "code",
   "execution_count": 37,
   "metadata": {},
   "outputs": [],
   "source": [
    "# 이건 몰라도 됩니다 - 추후에 배울 것 (아마 노드?)\n",
    "# 이런 것도 있다 경험\n",
    "# 데코레이터 : 함수를 꾸며주는 함수\n",
    "def 난데코레이터(함수):\n",
    "    def decorator(*args):\n",
    "        print(\"Hellow ~\")\n",
    "        리턴함수 = 함수(*args)\n",
    "        return 리턴함수\n",
    "    return decorator\n"
   ]
  },
  {
   "cell_type": "code",
   "execution_count": 38,
   "metadata": {},
   "outputs": [],
   "source": [
    "@난데코레이터\n",
    "def 난함수(a, b):\n",
    "    c = a * b\n",
    "    return c"
   ]
  },
  {
   "cell_type": "code",
   "execution_count": 39,
   "metadata": {},
   "outputs": [
    {
     "name": "stdout",
     "output_type": "stream",
     "text": [
      "Hellow ~\n"
     ]
    },
    {
     "data": {
      "text/plain": [
       "2"
      ]
     },
     "execution_count": 39,
     "metadata": {},
     "output_type": "execute_result"
    }
   ],
   "source": [
    "난함수(1,2)    #Hellow~ 가 같이 나온다..............."
   ]
  },
  {
   "cell_type": "code",
   "execution_count": null,
   "metadata": {},
   "outputs": [],
   "source": []
  }
 ],
 "metadata": {
  "kernelspec": {
   "display_name": "aiffel",
   "language": "python",
   "name": "aiffel"
  },
  "language_info": {
   "codemirror_mode": {
    "name": "ipython",
    "version": 3
   },
   "file_extension": ".py",
   "mimetype": "text/x-python",
   "name": "python",
   "nbconvert_exporter": "python",
   "pygments_lexer": "ipython3",
   "version": "3.7.9"
  }
 },
 "nbformat": 4,
 "nbformat_minor": 4
}
