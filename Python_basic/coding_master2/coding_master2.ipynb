{
 "cells": [
  {
   "cell_type": "code",
   "execution_count": 1,
   "metadata": {},
   "outputs": [],
   "source": [
    "DataType = set,bool,list,tuple,dict"
   ]
  },
  {
   "cell_type": "code",
   "execution_count": 2,
   "metadata": {},
   "outputs": [
    {
     "name": "stdout",
     "output_type": "stream",
     "text": [
      "[0, 1, 2, 3, 4, 5, 6, 7, 8, 9]\n"
     ]
    }
   ],
   "source": [
    "#list안에서 for문 사용 \n",
    "list_comprehension = [i for i in range(10)]\n",
    "print(list_comprehension)"
   ]
  },
  {
   "cell_type": "markdown",
   "metadata": {},
   "source": [
    "# dict\n",
    "+ key : value 형태의 데이터 타입\n",
    "+  key로 좌물쇠를 열어서 value를 꺼낸다\n",
    "+ 인덱스는 순서 있음/ dict는 순서 없음!"
   ]
  },
  {
   "cell_type": "code",
   "execution_count": 7,
   "metadata": {},
   "outputs": [],
   "source": [
    "dict_1 = {\"key\" : \"abc\"}     #인덱스 가능\n",
    "dict_2 = {\"key\" : [\"a\", \"b\", \"c\"]}   #인덱스 가능\n",
    "dict_3 = {\"key\" : (1,2,3,)}   #인덱스 가능\n",
    "dict_4 = {\"key\" : {1,2,3,}}   #{}니까 인덱스 불가\n",
    "dict_5 = {\"key\" : {\"key\" : \"abc\"}}  #키 안에 dic{}이므로 인덱스는 불가 -> 키사용 하기 "
   ]
  },
  {
   "cell_type": "code",
   "execution_count": 8,
   "metadata": {},
   "outputs": [
    {
     "name": "stdout",
     "output_type": "stream",
     "text": [
      "abc\n",
      "['a', 'b', 'c']\n",
      "(1, 2, 3)\n",
      "{1, 2, 3}\n",
      "{'key': 'abc'}\n"
     ]
    }
   ],
   "source": [
    "# 열쇠로 자물쇠를 열어서 value 꺼내기\n",
    "#key로 dict_1의 자물쇠를 연다\n",
    "\n",
    "print(dict_1[\"key\"])\n",
    "print(dict_2[\"key\"])\n",
    "print(dict_3[\"key\"])\n",
    "print(dict_4[\"key\"])\n",
    "print(dict_5[\"key\"])\n",
    "\n"
   ]
  },
  {
   "cell_type": "code",
   "execution_count": 9,
   "metadata": {},
   "outputs": [
    {
     "name": "stdout",
     "output_type": "stream",
     "text": [
      "a\n",
      "a\n",
      "1\n"
     ]
    }
   ],
   "source": [
    "# value의 1번째만 뽑아오고 싶다면?\n",
    "print(dict_1[\"key\"][0])\n",
    "print(dict_2[\"key\"][0])\n",
    "print(dict_3[\"key\"][0])\n",
    "#print(dict_4[\"key\"][0]) # 에러가 납니다 # {} 쓰는 놈들은 인덱스가 없어요"
   ]
  },
  {
   "cell_type": "code",
   "execution_count": 10,
   "metadata": {},
   "outputs": [
    {
     "name": "stdout",
     "output_type": "stream",
     "text": [
      "abc\n"
     ]
    }
   ],
   "source": [
    "# 자물쇠 안에 자물쇠가 있다고 생각하십셔\n",
    "print(dict_5[\"key\"][\"key\"])"
   ]
  },
  {
   "cell_type": "code",
   "execution_count": 11,
   "metadata": {},
   "outputs": [],
   "source": [
    "dict_1 = {\"key_1\":\"value_1\", \"key_2\":\"value_2\"}"
   ]
  },
  {
   "cell_type": "code",
   "execution_count": 12,
   "metadata": {},
   "outputs": [
    {
     "data": {
      "text/plain": [
       "dict_keys(['key_1', 'key_2'])"
      ]
     },
     "execution_count": 12,
     "metadata": {},
     "output_type": "execute_result"
    }
   ],
   "source": [
    "# dict key\"들\"만 뽑기\n",
    "dict_1.keys()"
   ]
  },
  {
   "cell_type": "code",
   "execution_count": 13,
   "metadata": {},
   "outputs": [
    {
     "data": {
      "text/plain": [
       "dict_values(['value_1', 'value_2'])"
      ]
     },
     "execution_count": 13,
     "metadata": {},
     "output_type": "execute_result"
    }
   ],
   "source": [
    "# dict value\"들\"만 뽑기\n",
    "dict_1.values()"
   ]
  },
  {
   "cell_type": "code",
   "execution_count": 14,
   "metadata": {},
   "outputs": [
    {
     "data": {
      "text/plain": [
       "dict_items([('key_1', 'value_1'), ('key_2', 'value_2')])"
      ]
     },
     "execution_count": 14,
     "metadata": {},
     "output_type": "execute_result"
    }
   ],
   "source": [
    "# 둘 다 뽑기\n",
    "dict_1.items()"
   ]
  },
  {
   "cell_type": "code",
   "execution_count": 15,
   "metadata": {},
   "outputs": [
    {
     "ename": "TypeError",
     "evalue": "unhashable type: 'list'",
     "output_type": "error",
     "traceback": [
      "\u001b[0;31m---------------------------------------------------------------------------\u001b[0m",
      "\u001b[0;31mTypeError\u001b[0m                                 Traceback (most recent call last)",
      "\u001b[0;32m<ipython-input-15-608bb2b316cd>\u001b[0m in \u001b[0;36m<module>\u001b[0;34m\u001b[0m\n\u001b[0;32m----> 1\u001b[0;31m \u001b[0mdict_1\u001b[0m\u001b[0;34m=\u001b[0m\u001b[0;34m{\u001b[0m\u001b[0;34m[\u001b[0m\u001b[0;36m1\u001b[0m\u001b[0;34m,\u001b[0m\u001b[0;36m2\u001b[0m\u001b[0;34m,\u001b[0m\u001b[0;36m3\u001b[0m\u001b[0;34m]\u001b[0m\u001b[0;34m:\u001b[0m\u001b[0;34m\"value_1\"\u001b[0m\u001b[0;34m,\u001b[0m\u001b[0;34m[\u001b[0m\u001b[0;36m1\u001b[0m\u001b[0;34m,\u001b[0m\u001b[0;36m2\u001b[0m\u001b[0;34m,\u001b[0m\u001b[0;36m3\u001b[0m\u001b[0;34m]\u001b[0m \u001b[0;34m:\u001b[0m \u001b[0;34m\"value_2\"\u001b[0m\u001b[0;34m}\u001b[0m\u001b[0;34m\u001b[0m\u001b[0;34m\u001b[0m\u001b[0m\n\u001b[0m",
      "\u001b[0;31mTypeError\u001b[0m: unhashable type: 'list'"
     ]
    }
   ],
   "source": [
    "dict_1={[1,2,3]:\"value_1\",[1,2,3] : \"value_2\"}\n",
    "#value는 어느것이나 다 된다 (튜플,list,set, ect.)\n",
    "#key값은 안되는 것이 있다! (안될듯..)"
   ]
  },
  {
   "cell_type": "markdown",
   "metadata": {},
   "source": [
    "## Module모듈\n",
    "+ 파일  \n",
    "## 패키지\n",
    "+ 모듈이 모이면 패키지  \n",
    "## library\n",
    "+ 패키지가 모이면 라이브러리 - sklearn numpy \n",
    "+ import [라이브러리 이름] = 라이브러리 불러오기"
   ]
  },
  {
   "cell_type": "code",
   "execution_count": 25,
   "metadata": {},
   "outputs": [
    {
     "data": {
      "text/plain": [
       "'/home/aiffel'"
      ]
     },
     "execution_count": 25,
     "metadata": {},
     "output_type": "execute_result"
    }
   ],
   "source": [
    "import os\n",
    "os.getcwd()\n",
    "os.listdir()"
   ]
  },
  {
   "cell_type": "code",
   "execution_count": 16,
   "metadata": {},
   "outputs": [],
   "source": [
    "# 하지만 pandas 타자로치기 길다 -> 무려 5글자\n",
    "# alias를 사용해서 줄이자 -> \"\"\"as\"\"\" 로 표현할 수 있음\n",
    "# as 뒤에 내가 쓰고 싶은 아무거나\n",
    "import pandas as pd\n",
    "\n",
    "# 라이브러리를 불러올 때 \n",
    "import os \n",
    "import sys\n",
    "# 이렇게 불러올 수 있지만\n",
    "import os, sys\n",
    "# 이렇게도 할 수 있습니다\n"
   ]
  },
  {
   "cell_type": "code",
   "execution_count": 17,
   "metadata": {},
   "outputs": [
    {
     "data": {
      "text/plain": [
       "'/home/aiffel/Aiffel_node/coding_master/1_python_basic'"
      ]
     },
     "execution_count": 17,
     "metadata": {},
     "output_type": "execute_result"
    }
   ],
   "source": [
    "# 라이브러리안에 특정한 것만 뽑아 올 수도 있습니다\n",
    "# from ~ import ~\n",
    "from os import getcwd\n",
    "\n",
    "# 앞에 라이브러리 선언없이 그냥 쓸 수 있죠\n",
    "getcwd()"
   ]
  },
  {
   "cell_type": "code",
   "execution_count": 18,
   "metadata": {},
   "outputs": [
    {
     "data": {
      "text/plain": [
       "'.'"
      ]
     },
     "execution_count": 18,
     "metadata": {},
     "output_type": "execute_result"
    }
   ],
   "source": [
    "# 라이브러리 안에서 모든 것을 다 뽑아오고 싶다면 ''' * ''' 을 쓰세요\n",
    "from os import *\n",
    "\n",
    "\n",
    "# os의 모든 것을 다 가져왔습니다\n",
    "chdir(\"../../..\")\n",
    "\n",
    "\n",
    "listdir()\n",
    "\n",
    "pardir\n",
    "\n",
    "curdir\n",
    "\n",
    "#개인이 만든 모듈(.py)이 있다면 똑같이 import로 불러오면 됩니다, 다만 경로를 잘 맞춰야겠죠\n",
    "\n",
    " #   경로확인 할 때 os.getcwd() 로 현재 경로를 확인하고 같은 디렉토리안에 .py를 넣어주면 import 를 할 수 있습니다\n",
    "\n"
   ]
  },
  {
   "cell_type": "markdown",
   "metadata": {},
   "source": []
  },
  {
   "cell_type": "code",
   "execution_count": null,
   "metadata": {},
   "outputs": [],
   "source": []
  }
 ],
 "metadata": {
  "kernelspec": {
   "display_name": "aiffel",
   "language": "python",
   "name": "aiffel"
  },
  "language_info": {
   "codemirror_mode": {
    "name": "ipython",
    "version": 3
   },
   "file_extension": ".py",
   "mimetype": "text/x-python",
   "name": "python",
   "nbconvert_exporter": "python",
   "pygments_lexer": "ipython3",
   "version": "3.7.9"
  }
 },
 "nbformat": 4,
 "nbformat_minor": 4
}
