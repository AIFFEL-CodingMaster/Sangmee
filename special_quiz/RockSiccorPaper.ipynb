{
 "cells": [
  {
   "cell_type": "code",
   "execution_count": null,
   "metadata": {},
   "outputs": [],
   "source": [
    "player_1 = input(\"player_1 : 가위, 바위, 보 중에 하나를 입력하세요 : \")\n",
    "player_2 = input(\"player_2 : 가위, 바위, 보 중에 하나를 입력하세요 : \")\n",
    "\n",
    "if player_1==player_2\n",
    "    print(\"비겼습니다!\")\n",
    "elif player_1==\"가위\" and "
   ]
  }
 ],
 "metadata": {
  "kernelspec": {
   "display_name": "aiffel",
   "language": "python",
   "name": "aiffel"
  },
  "language_info": {
   "codemirror_mode": {
    "name": "ipython",
    "version": 3
   },
   "file_extension": ".py",
   "mimetype": "text/x-python",
   "name": "python",
   "nbconvert_exporter": "python",
   "pygments_lexer": "ipython3",
   "version": "3.7.9"
  }
 },
 "nbformat": 4,
 "nbformat_minor": 4
}
