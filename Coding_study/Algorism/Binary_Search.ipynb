{
  "nbformat": 4,
  "nbformat_minor": 0,
  "metadata": {
    "colab": {
      "name": "이진탐색.ipynb",
      "provenance": [],
      "collapsed_sections": []
    },
    "kernelspec": {
      "name": "python3",
      "display_name": "Python 3"
    },
    "language_info": {
      "name": "python"
    }
  },
  "cells": [
    {
      "cell_type": "markdown",
      "metadata": {
        "id": "NWOJs-5kP1p9"
      },
      "source": [
        "순차탐색"
      ]
    },
    {
      "cell_type": "code",
      "metadata": {
        "id": "-lPKRtLVPxcz"
      },
      "source": [
        "# 순차탐색 구현\n",
        "\n",
        "def sequential_search(a,x):  # 리스트a와 찾을 데이터 x 입력 받기\n",
        "  n = len(a)  # 리스트 a 데이터 갯수\n",
        "  for i in range(0,n):\n",
        "    if x==a[i]:\n",
        "      return i\n",
        "\n",
        "  # x가 리스트 a 안에 없을 경우\n",
        "  return -1"
      ],
      "execution_count": null,
      "outputs": []
    },
    {
      "cell_type": "code",
      "metadata": {
        "colab": {
          "base_uri": "https://localhost:8080/"
        },
        "id": "iE-te1FYRfUN",
        "outputId": "f32e3a40-711f-421e-a72f-88fee9a66d77"
      },
      "source": [
        "a = [3,6,8,13,25,37]\n",
        "\n",
        "sequential_search(a,13)"
      ],
      "execution_count": null,
      "outputs": [
        {
          "output_type": "execute_result",
          "data": {
            "text/plain": [
              "3"
            ]
          },
          "metadata": {
            "tags": []
          },
          "execution_count": 2
        }
      ]
    },
    {
      "cell_type": "code",
      "metadata": {
        "colab": {
          "base_uri": "https://localhost:8080/"
        },
        "id": "-DK1CU6ARui7",
        "outputId": "ab2a28b3-e7c3-49de-f915-086b28dc58dd"
      },
      "source": [
        "sequential_search(a,21)"
      ],
      "execution_count": null,
      "outputs": [
        {
          "output_type": "execute_result",
          "data": {
            "text/plain": [
              "-1"
            ]
          },
          "metadata": {
            "tags": []
          },
          "execution_count": 3
        }
      ]
    },
    {
      "cell_type": "code",
      "metadata": {
        "colab": {
          "base_uri": "https://localhost:8080/"
        },
        "id": "egE8L8sJSAjB",
        "outputId": "b47ff4f5-95b6-4431-d413-7b0e23ab7180"
      },
      "source": [
        "# 이진탐색 구현 (재귀함수)\n",
        "\n",
        "def binary_search(array,target,start,end):\n",
        "  if start > end:\n",
        "    return None\n",
        "  mid = (start+end) // 2\n",
        "\n",
        "  # 찾은 경우 중간점 인덱스 반환\n",
        "  if array[mid] == target:\n",
        "    return mid\n",
        "  \n",
        "  # 중간값이 더 클 경우 끝값 왼쪽으로 옮기기\n",
        "  elif array[mid] > target:\n",
        "    return binary_search(array,target,start,mid-1)\n",
        "  \n",
        "  # 중간값이 더 작을경우, 시작점 오른쪽으로 옮기기\n",
        "  else:\n",
        "    return binary_search(array,target,mid+1,end)\n",
        "\n",
        "# 원소 갯수 n, target 입력 받기\n",
        "n,target = list(map(int,input().split()))\n",
        "\n",
        "# 리스트 받기\n",
        "array = list(map(int,input().split()))\n",
        "\n",
        "# 이진탐색 결과 출력\n",
        "result = binary_search(array,target,0,n-1)\n",
        "if result == None:\n",
        "  print(\"원소가 존재하지 않습니다\")\n",
        "else:\n",
        "  print(result+1)  # 인덱스 값에서 +1 하면 몇번째 원소인지 알 수 있다\n"
      ],
      "execution_count": null,
      "outputs": [
        {
          "output_type": "stream",
          "text": [
            "10 7\n",
            "1 3 5 7 9 11 13 15 17 19\n",
            "4\n"
          ],
          "name": "stdout"
        }
      ]
    },
    {
      "cell_type": "code",
      "metadata": {
        "id": "m7A7NAxHlX4o"
      },
      "source": [
        "# 이진탐색 구현 (반복문)\n",
        "def binary_search(array,target,start,end):\n",
        "  while start <= end:\n",
        "    mid = (start+end) // 2\n",
        "    \n",
        "    # 찾았을 때, 중간값 인덱스 반환하기\n",
        "    if array[mid]==target:\n",
        "      return mid\n",
        "    # 중간값이 더 클 경우, 끝점 왼쪽으로 옮기기\n",
        "    elif array[mid] > target:\n",
        "      end = mid - 1\n",
        "    # 중간값이 더 작을 경우, 시작점 오른쪽 옮기기\n",
        "    else:\n",
        "      start = mid + 1\n",
        "  return None\n",
        "\n",
        "#n(원소의 개수)과 target(찾고자 하는 값)을 입력 받기\n",
        "n, target=list(map(int,input().split()))\n",
        "# 전채 원소 입력 받기\n",
        "array=list(map(int,input().split()))\n",
        "\n",
        "#이진 탐색 수행 결과 출력\n",
        "result=binary_search(array, target, 0, n-1)\n",
        "if result = None:\n",
        "    print('원소가 존재하지 않습니다')\n",
        "else :\n",
        "    print(result+1)"
      ],
      "execution_count": null,
      "outputs": []
    },
    {
      "cell_type": "code",
      "metadata": {
        "colab": {
          "base_uri": "https://localhost:8080/"
        },
        "id": "k42PEH9lsrts",
        "outputId": "27032505-ed53-488d-e06a-f26cf19d5084"
      },
      "source": [
        "# 백준 1920 (수 찾기)\n",
        "\n",
        "n = int(input())\n",
        "search_array = list(map(int,input().split()))\n",
        "search_array = sorted(search_array)\n",
        "\n",
        "m = int(input())\n",
        "target_array = list(map(int,input().split()))\n",
        "\n",
        "def search_num(search_array,target,start,end):\n",
        "  while start<= end:\n",
        "    mid = (start+end)//2\n",
        "    # 찾으면 인덱스 반환\n",
        "    if search_array[mid]==target:\n",
        "      return mid\n",
        "    # 중간값이 더 클 때, 끝점 왼쪽으로 옮기기\n",
        "    elif search_array[mid]>target:\n",
        "      end = mid -1\n",
        "    # 중간값이 더 작을 때, 시작점 오른쪽으로 옮기기\n",
        "    else:\n",
        "      start = mid + 1\n",
        "  return None\n",
        "\n",
        "for i in target_array:\n",
        "  result = search_num(search_array,i,0,n-1)\n",
        "  # 존재하면 함수 작동\n",
        "  if result != None:\n",
        "    print(\"1\")\n",
        "  else:\n",
        "    print(\"0\")\n"
      ],
      "execution_count": null,
      "outputs": [
        {
          "output_type": "stream",
          "text": [
            "5\n",
            "4 1 5 2 3\n",
            "5\n",
            "1 3 7 9 5\n",
            "1\n",
            "1\n",
            "0\n",
            "0\n",
            "1\n"
          ],
          "name": "stdout"
        }
      ]
    }
  ]
}
