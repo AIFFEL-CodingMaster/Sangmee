{
 "cells": [
  {
   "cell_type": "markdown",
   "metadata": {},
   "source": [
    "Leetcode   \n",
    "682. Baseball Game - Easy  https://leetcode.com/problems/baseball-game/\n",
    "\n",
    "\n",
    "You are keeping score for a baseball game with strange rules. The game consists of several rounds, where the scores of past rounds may affect future rounds' scores.\n",
    "\n",
    "At the beginning of the game, you start with an empty record. You are given a list of strings ops, where ops[i] is the ith operation you must apply to the record and is one of the following:\n",
    "\n",
    "An integer x - Record a new score of x.  \n",
    "\"+\" - Record a new score that is the sum of the previous two scores. It is guaranteed there will always be two previous scores.  \n",
    "\"D\" - Record a new score that is double the previous score. It is guaranteed there will always be a previous score.  \n",
    "\"C\" - Invalidate the previous score, removing it from the record. It is guaranteed there will always be a previous score.  \n",
    "Return the sum of all the scores on the record.  \n",
    "\n",
    " \n",
    "\n",
    "Example 1:\n",
    "\n",
    "Input: ops = [\"5\",\"2\",\"C\",\"D\",\"+\"]  \n",
    "Output: 30  \n",
    "Explanation:  \n",
    "\"5\" - Add 5 to the record, record is now [5].  \n",
    "\"2\" - Add 2 to the record, record is now [5, 2].  \n",
    "\"C\" - Invalidate and remove the previous score, record is now [5].  \n",
    "\"D\" - Add 2 * 5 = 10 to the record, record is now [5, 10].  \n",
    "\"+\" - Add 5 + 10 = 15 to the record, record is now [5, 10, 15].  \n",
    "The total sum is 5 + 10 + 15 = 30."
   ]
  },
  {
   "cell_type": "code",
   "execution_count": 3,
   "metadata": {},
   "outputs": [],
   "source": [
    "class Solution(object):\n",
    "    def calPoints(self, ops):\n",
    "        \"\"\"\n",
    "        :type ops: List[str]\n",
    "        :rtype: int\n",
    "        \"\"\"\n",
    "        \n",
    "        rec = []\n",
    "        for i in len(ops):\n",
    "            n = ops[i]\n",
    "            if str(type(n)) == \"<class 'int'>\":    # 숫자 분류 판단 어떻게 하지?\n",
    "                rec.append(int(i))\n",
    "                \n",
    "            elif n == \"+\":\n",
    "                num1 = rec[-1]\n",
    "                num2 = rec[-2]\n",
    "                sums = num1 +num2 \n",
    "                rec.append(sums)\n",
    "                \n",
    "            elif n == \"D\":\n",
    "                num3 = rec[-1]\n",
    "                double = 2 * num3\n",
    "                rec.append(num3)\n",
    "                \n",
    "            elif n == \"C\":\n",
    "                rec.pop()\n",
    "                \n",
    "        total = sum(rec)\n",
    "        print(total)    \n",
    "            "
   ]
  },
  {
   "cell_type": "code",
   "execution_count": null,
   "metadata": {},
   "outputs": [],
   "source": [
    "class Solution(object):\n",
    "    def calPoints(self, ops):\n",
    "        \"\"\"\n",
    "        :type ops: List[str]\n",
    "        :rtype: int\n",
    "        \"\"\"\n",
    "        \n",
    "        rec = []\n",
    "        for n in ops:\n",
    "            #n = ops[i]\n",
    "               \n",
    "            if n == \"+\":\n",
    "                num1 = rec[-1]\n",
    "                num2 = rec[-2]\n",
    "                sums = num1 +num2 \n",
    "                rec.append(sums)\n",
    "                \n",
    "            elif n == \"D\":\n",
    "                num3 = rec[-1]\n",
    "                double = 2 * num3\n",
    "                rec.append(double)\n",
    "                \n",
    "            elif n == \"C\":\n",
    "                rec.pop()\n",
    "                \n",
    "            else :             # 그냥 else로 빼줬는데 다른 방법없나ㅠㅠ\n",
    "                rec.append(int(n))  \n",
    "             \n",
    "        return sum(rec)    # 함수니까 return 사용!  "
   ]
  },
  {
   "cell_type": "code",
   "execution_count": null,
   "metadata": {},
   "outputs": [],
   "source": []
  },
  {
   "cell_type": "markdown",
   "metadata": {},
   "source": [
    "https://programmers.co.kr/learn/courses/30/lessons/64061?language=python"
   ]
  },
  {
   "cell_type": "code",
   "execution_count": 1,
   "metadata": {},
   "outputs": [],
   "source": [
    "def solution(board, moves):\n",
    "    answer = 0\n",
    "    box = []\n",
    "    \n",
    "    for i in moves:\n",
    "        n = board[::][i-1]   #[0,0,0,4,3]\n",
    "        for j in n:\n",
    "            if j > 0:\n",
    "                box.append(j)\n",
    "                if box[-2] == box[-1]:\n",
    "                    box.pop(-2)\n",
    "                    answer += 1\n",
    "                    \n",
    "    return answer"
   ]
  },
  {
   "cell_type": "code",
   "execution_count": null,
   "metadata": {},
   "outputs": [],
   "source": []
  },
  {
   "cell_type": "code",
   "execution_count": 2,
   "metadata": {},
   "outputs": [],
   "source": [
    "def solution(board, moves):\n",
    "    answer = 0\n",
    "    box = []\n",
    "    \n",
    "    for i in moves:\n",
    "        n = board[::][i-1]   #[0,0,0,4,3]\n",
    "        for j in n:\n",
    "            if j > 0:\n",
    "                box.append(j)\n",
    "                if len(basket) >= 2 and box[-2] == j:\n",
    "                    box.pop()\n",
    "                    box.pop()\n",
    "                    answer += 2\n",
    "                    \n",
    "                break \n",
    "                \n",
    "    return answer"
   ]
  },
  {
   "cell_type": "code",
   "execution_count": null,
   "metadata": {},
   "outputs": [],
   "source": []
  },
  {
   "cell_type": "markdown",
   "metadata": {},
   "source": [
    "https://programmers.co.kr/learn/courses/30/lessons/64061"
   ]
  }
 ],
 "metadata": {
  "kernelspec": {
   "display_name": "Python 3",
   "language": "python",
   "name": "python3"
  },
  "language_info": {
   "codemirror_mode": {
    "name": "ipython",
    "version": 3
   },
   "file_extension": ".py",
   "mimetype": "text/x-python",
   "name": "python",
   "nbconvert_exporter": "python",
   "pygments_lexer": "ipython3",
   "version": "3.7.9"
  }
 },
 "nbformat": 4,
 "nbformat_minor": 4
}
