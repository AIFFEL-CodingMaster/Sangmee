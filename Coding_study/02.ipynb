{
 "cells": [
  {
   "cell_type": "code",
   "execution_count": 1,
   "metadata": {},
   "outputs": [],
   "source": [
    "#Definition for singly-linked list.\n",
    "class ListNode:\n",
    "    def __init__(self, val=0, next=None):\n",
    "        self.val = val\n",
    "        self.next = next"
   ]
  },
  {
   "cell_type": "code",
   "execution_count": 4,
   "metadata": {},
   "outputs": [],
   "source": [
    "\n",
    "class Solution:\n",
    "    def getDecimalValue(self, head: ListNode) -> int:\n",
    "        \n",
    "        temp = [head.val,]\n",
    "        \n",
    "        while head.next :  # head=None일때까지 돌린다.\n",
    "            # head.val = 1     /    head.next.val = 0 \n",
    "            head.val = head.next.val\n",
    "            # 주소 바꿔주기\n",
    "            head.next = head.next.next\n",
    "            \n",
    "            temp.append(head.val)\n",
    "            \n",
    "            # while문 끝나면 temp [1,0,1]\n",
    "            \n",
    "        temp = list(map(lambda x : str(x), temp))\n",
    "        temp = \"0b\" + \"\".join(temp)\n",
    "        answer = int(temp,2)\n",
    "        \n",
    "        return answer\n",
    "            \n",
    "        #ListNode(val = 1,next = ListNode(val=0, next = ListNode(val=1,next=None)))"
   ]
  },
  {
   "cell_type": "code",
   "execution_count": null,
   "metadata": {},
   "outputs": [],
   "source": [
    "#255 클래스 생성자-2\n",
    "#사람 (Human) 클래스에 (이름, 나이, 성별)을 받는 생성자를 추가하세요.\n",
    "\n",
    "class Human:\n",
    "    def __init__(self,이름,나이,성별): #생성자\n",
    "        self.name = 이름    # self라는 공간에 name이라는 키에 이름 이라는 값을 바인딩 해준다.\n",
    "        self.age = 나이    #나이 는 함수가 생성될때 임시적으로 생기는 변수 -> age에 바인딩 해주는 역할\n",
    "        self.sex= 성별\n",
    " \n",
    "head = [1,0,1] \n",
    "\n",
    "areum = Human(\"아름\", 25, \"여자\")\n",
    "instance = Solution()\n",
    "instance.getDecimalValue(head)\n",
    "\n",
    "head.val\n",
    "\n",
    "print(areum.name)   \n",
    "print(areum.age)"
   ]
  },
  {
   "cell_type": "code",
   "execution_count": 17,
   "metadata": {},
   "outputs": [],
   "source": [
    "#Definition for singly-linked list.\n",
    "class ListNode: \n",
    "    def __init__(self, val=0, next=None):\n",
    "        self.val = val\n",
    "        self.next = next\n",
    "\n",
    "class Solution:\n",
    "    def getDecimalValue(self, head) :\n",
    "        \n",
    "        temp = [head.val, ]   # 첫번째 노드 데이터값으로 만들어줌\n",
    "    \n",
    "        while head.next:    # 연결리스트 활용법 \n",
    "            head.val = head.next.val\n",
    "            head.next = head.next.next\n",
    "            temp.append(head.val)\n",
    "        \n",
    "        temp = list(map(lambda x : str(x) , temp))\n",
    "        temp =  \"0b\" + \"\".join(temp)\n",
    "        answer = int(temp, 2)\n",
    "        \n",
    "        return answer\n",
    "        \n",
    "# instance = Solution()\n",
    "# instance.getDecimalValue(head=node)\n",
    "\n",
    "#     example 1\n",
    "#     # iteration 1\n",
    "#     head.val = 1\n",
    "#     head.next = ListNode(val=0, next= ListNode(val=1, next=None))\n",
    "    \n",
    "#     # iteration 2\n",
    "#     head.val = 0\n",
    "#     head.next = ListNode(val=1, next=None)\n",
    "    \n",
    "#     # iteration 3\n",
    "#     head.val = 1\n",
    "#     head.next = None\n",
    "    \n",
    "#     ListNode(val = 1, next= ListNode(val=0, next= ListNode(val=1, next=None)))"
   ]
  },
  {
   "cell_type": "code",
   "execution_count": 22,
   "metadata": {},
   "outputs": [],
   "source": [
    "head = ListNode(val = 1,next = ListNode(val=0, next = ListNode(val=1,next=None))) "
   ]
  },
  {
   "cell_type": "code",
   "execution_count": 23,
   "metadata": {},
   "outputs": [
    {
     "data": {
      "text/plain": [
       "5"
      ]
     },
     "execution_count": 23,
     "metadata": {},
     "output_type": "execute_result"
    }
   ],
   "source": [
    "instance = Solution()\n",
    "instance.getDecimalValue(head)"
   ]
  },
  {
   "cell_type": "code",
   "execution_count": 20,
   "metadata": {},
   "outputs": [],
   "source": [
    "# head = [1,0,1] ㅠㅠㅠㅠㅠ"
   ]
  },
  {
   "cell_type": "code",
   "execution_count": 25,
   "metadata": {},
   "outputs": [
    {
     "data": {
      "text/plain": [
       "[1, 0, 1]"
      ]
     },
     "execution_count": 25,
     "metadata": {},
     "output_type": "execute_result"
    }
   ],
   "source": [
    "class ListNode: \n",
    "    def __init__(self, val=0, next=None): \n",
    "        self.val = val \n",
    "        self.next = next \n",
    "        \n",
    "    def __repr__(self): \n",
    "        temp = [self.val, ] \n",
    "        while self.next: \n",
    "            self.val = self.next.val \n",
    "            self.next = self.next.next \n",
    "            temp.append(self.val) \n",
    "            \n",
    "        return f\"{temp}\" \n",
    "    \n",
    "head = ListNode(val = 1, next= ListNode(val=0, next= ListNode(val=1, next=None))) \n",
    "head"
   ]
  },
  {
   "cell_type": "code",
   "execution_count": 2,
   "metadata": {},
   "outputs": [
    {
     "name": "stdout",
     "output_type": "stream",
     "text": [
      "5\n"
     ]
    }
   ],
   "source": [
    "temp = [1,2,3,4,5]\n",
    "num = len(temp)\n",
    "\n",
    "print(num)"
   ]
  },
  {
   "cell_type": "markdown",
   "metadata": {},
   "source": [
    "--- \n",
    "### 덱(Deque)\n",
    "- 맨 앞과 맨 끝 양쪽에서 데이터를 넣고 꺼낼 수 있는 자료구조 \n",
    "- 2개의 포인터를 사용하여 양쪽에서 삭제/삽입을 할 수 있으며 큐+스택 의 형태이다."
   ]
  },
  {
   "cell_type": "code",
   "execution_count": 12,
   "metadata": {},
   "outputs": [],
   "source": [
    "class Solution:\n",
    "    def isPalindrome(self, head: ListNode) -> bool:\n",
    "        \n",
    "        temp = [head.val,]\n",
    "        \n",
    "        while head.next :\n",
    "            head.val = head.next.val\n",
    "            head.next = head.next.next\n",
    "            temp.append(head.val)\n",
    "            num = len(temp)/2\n",
    "        "
   ]
  },
  {
   "cell_type": "code",
   "execution_count": null,
   "metadata": {},
   "outputs": [],
   "source": []
  },
  {
   "cell_type": "code",
   "execution_count": 6,
   "metadata": {},
   "outputs": [],
   "source": [
    "class ListNode:\n",
    "    def __init__(self, val=0, next=None):\n",
    "        self.val = val\n",
    "        self.next = next"
   ]
  },
  {
   "cell_type": "code",
   "execution_count": 7,
   "metadata": {},
   "outputs": [],
   "source": [
    "class Solution:\n",
    "    def isPalindrome(self, head: ListNode) -> bool:\n",
    "        \n",
    "        temp = [head.val,]   #[1,2,2,1]   [1,2]\n",
    "        \n",
    "        while head.next :\n",
    "            head.val = head.next.val\n",
    "            head.next = head.next.next\n",
    "            temp.append(head.val)\n",
    "            num = (len(temp)/2) - 1    # 4/2 -1= 2-1 = 1    2/2-1=1-1=0\n",
    "        \n",
    "        \n",
    "        for i in range(int(num)): #0,1  0\n",
    "            if temp[i] == temp[-1]:   #[1]==[2]\n",
    "                temp.pop()    \n",
    "            else :\n",
    "                break\n",
    "                #return False\n",
    "    \n",
    "        return True\n",
    "        "
   ]
  },
  {
   "cell_type": "markdown",
   "metadata": {},
   "source": [
    "---\n",
    "\n",
    "# Input [1]에서 막힘ㅜㅜ"
   ]
  },
  {
   "cell_type": "code",
   "execution_count": 8,
   "metadata": {},
   "outputs": [],
   "source": [
    "class Solution:\n",
    "    def isPalindrome(self, head: ListNode) -> bool:\n",
    "        \n",
    "        temp = [head.val,]   #[1,2,2,1]   [1,2]\n",
    "        \n",
    "        while head.next :\n",
    "            head.val = head.next.val\n",
    "            head.next = head.next.next\n",
    "            temp.append(head.val)\n",
    "            num = (len(temp)/2) - 1    # 4/2 -1= 2-1 = 1    2/2-1=1-1=0\n",
    "        \n",
    "        \n",
    "        for i in range(int(num)): #0,1  0\n",
    "            if temp[i] == temp[-1]:   #[1]==[2]\n",
    "                temp.pop()    \n",
    "            else :\n",
    "                break\n",
    "                return False\n",
    "    \n",
    "            return True\n",
    "    \n",
    "    \n",
    "# Input [1]에서 막힘    "
   ]
  },
  {
   "cell_type": "code",
   "execution_count": 9,
   "metadata": {},
   "outputs": [],
   "source": [
    "class Solution:\n",
    "    def isPalindrome(self, head: ListNode) -> bool:\n",
    "        \n",
    "        temp = [head.val,]   #[1,2,2,1]   [1,2]\n",
    "        \n",
    "        while head.next :\n",
    "            head.val = head.next.val\n",
    "            head.next = head.next.next\n",
    "            temp.append(head.val)\n",
    "               \n",
    "        \n",
    "        num = (len(temp)/2) - 1 # 4/2 -1= 2-1 = 1    2/2-1=1-1=0\n",
    "        while num >= 0:\n",
    "            for i in range(int(num)): # 0,1  0\n",
    "                if temp[i] == temp[-1]:   #[1]==[2]\n",
    "                    temp.pop()    \n",
    "                # else :\n",
    "                #     break\n",
    "                #     return False\n",
    "                return True \n",
    "        return False"
   ]
  },
  {
   "cell_type": "code",
   "execution_count": null,
   "metadata": {},
   "outputs": [],
   "source": [
    "class Solution:\n",
    "    def isPalindrome(self, head: ListNode) -> bool:\n",
    "        \n",
    "        temp = [head.val,]   #[1,2,2,1]   [1,2]\n",
    "        \n",
    "        while head.next :\n",
    "            head.val = head.next.val\n",
    "            head.next = head.next.next\n",
    "            temp.append(head.val)\n",
    "               \n",
    "        num = len(temp)/2  # 4/2 -1= 2-1 = 1    2/2-1=1-1=0\n",
    "        \n",
    "        while num >= 0 :\n",
    "            for i in range(int(num)): # 0,1  0\n",
    "                if temp[i-1] == temp[-1]:   #[1]==[2]\n",
    "                    temp.pop()    \n",
    "                    return True \n",
    "                else:\n",
    "                    break\n",
    "        return False\n",
    "        "
   ]
  },
  {
   "cell_type": "code",
   "execution_count": null,
   "metadata": {},
   "outputs": [],
   "source": [
    "class Solution:\n",
    "    def isPalindrome(self, head: ListNode) -> bool:\n",
    "        \n",
    "        temp = [head.val,]   #[1,2,2,1]   [1,2]\n",
    "        \n",
    "        while head.next :\n",
    "            head.val = head.next.val\n",
    "            head.next = head.next.next\n",
    "            temp.append(head.val)\n",
    "               \n",
    "        \n",
    "        num = int(len(temp)/2 - 1 )# 4/2 -1= 2-1 = 1    2/2-1=1-1=0\n",
    "        if num == -0.5:\n",
    "            return True\n",
    "        else:\n",
    "            while num >= 0:\n",
    "                for i in range(num): # 0,1  0\n",
    "                    if temp[i] == temp[-1]:   #[1]==[2]\n",
    "                        temp.pop()    \n",
    "                    else :\n",
    "                        break\n",
    "                        return False\n",
    "                    return True \n",
    "            #return False\n",
    "                "
   ]
  },
  {
   "cell_type": "code",
   "execution_count": 10,
   "metadata": {},
   "outputs": [],
   "source": [
    "class Solution:\n",
    "    def isPalindrome(self, head: ListNode) -> bool:\n",
    "        \n",
    "        temp = [head.val,]   #[1,2,2,1]   [1,2]\n",
    "        \n",
    "        while head.next :\n",
    "            head.val = head.next.val\n",
    "            head.next = head.next.next\n",
    "            temp.append(head.val)\n",
    "                # 4/2 -1= 2-1 = 1    2/2-1=1-1=0\n",
    "        \n",
    "        num = (len(temp)/2) - 1\n",
    "        for i in range(int(num)): # 0,1  0\n",
    "            print(temp[i])"
   ]
  },
  {
   "cell_type": "code",
   "execution_count": null,
   "metadata": {},
   "outputs": [],
   "source": [
    "class Solution:\n",
    "    def isPalindrome(self, head: ListNode) -> bool:\n",
    "        temp = [head.val,]   #[1,2,2,1]   [1,2]\n",
    "        \n",
    "        while head.next :\n",
    "            head.val = head.next.val\n",
    "            head.next = head.next.next\n",
    "            temp.append(head.val)\n",
    "        \n",
    "        # 1개만 있어도 팰린드롬으로 치자\n",
    "        while len(temp) > 1:\n",
    "            for i in range(len(temp)//2):    # 4//2 = 2   0,1\n",
    "                if temp[i] == temp[-1-i] :   # [0]!=[temp[-1]]\n",
    "                    return True\n",
    "                else :\n",
    "                    break\n",
    "                    return False\n",
    "        return True \n",
    "    \n",
    " #    "
   ]
  },
  {
   "cell_type": "markdown",
   "metadata": {},
   "source": [
    "---"
   ]
  },
  {
   "cell_type": "code",
   "execution_count": 11,
   "metadata": {},
   "outputs": [],
   "source": [
    "class Solution:\n",
    "    def isPalindrome(self, head: ListNode) -> bool:\n",
    "        temp = [head.val,]   #[1,2,2,1]   [1,2]\n",
    "        \n",
    "        while head.next :\n",
    "            head.val = head.next.val\n",
    "            head.next = head.next.next\n",
    "            temp.append(head.val)\n",
    "        \n",
    "        for i in range(len(temp)//2):    # 4//2 = 2   0,1\n",
    "            if temp[i] != temp[-1-i] :   # [0]!=[temp[-1]]\n",
    "                return False\n",
    "        return True "
   ]
  }
 ],
 "metadata": {
  "kernelspec": {
   "display_name": "Python 3",
   "language": "python",
   "name": "python3"
  },
  "language_info": {
   "codemirror_mode": {
    "name": "ipython",
    "version": 3
   },
   "file_extension": ".py",
   "mimetype": "text/x-python",
   "name": "python",
   "nbconvert_exporter": "python",
   "pygments_lexer": "ipython3",
   "version": "3.7.9"
  }
 },
 "nbformat": 4,
 "nbformat_minor": 4
}
